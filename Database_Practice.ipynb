{
 "cells": [
  {
   "cell_type": "markdown",
   "metadata": {},
   "source": [
    "<center>\n",
    "    <img src=\"https://cf-courses-data.s3.us.cloud-object-storage.appdomain.cloud/IBMDeveloperSkillsNetwork-DB0201EN-SkillsNetwork/labs/FinalModule_Coursera_V5/images/SN_web_lightmode.png\" width=\"300\" alt=\"cognitiveclass.ai logo\">\n",
    "</center>\n",
    "\n",
    "# Create & Access SQLite database using Python\n",
    "\n",
    "Estimated time needed: **15** minutes\n",
    "\n",
    "## Objectives\n",
    "\n",
    "After completing this lab you will be able to:\n",
    "\n",
    "*   Create a database\n",
    "*   Create a table\n",
    "*   Insert data into the table\n",
    "*   Query data from the table\n",
    "*   Retrieve the result set into a pandas dataframe\n",
    "*   Close the database connection\n"
   ]
  },
  {
   "cell_type": "markdown",
   "metadata": {},
   "source": [
    "SQLite is a software library that implements a self-contained, serverless, zero-configuration, transactional SQL database engine. SQLite is the most widely deployed SQL database engine in the world.\n",
    "\n",
    "## Task 1: Create database using SQLite\n"
   ]
  },
  {
   "cell_type": "code",
   "metadata": {
    "ExecuteTime": {
     "end_time": "2024-05-10T16:46:46.938379900Z",
     "start_time": "2024-05-10T16:46:46.933385800Z"
    }
   },
   "outputs": [],
   "source": [
    "#Install & load sqlite3\n",
    "\n",
    "#!pip install sqlite3  ##Uncomment this code only if you are working in a local environment to install sqlite3\n",
    "import sqlite3"
   ],
   "execution_count": 2
  },
  {
   "cell_type": "code",
   "metadata": {
    "ExecuteTime": {
     "end_time": "2024-05-10T16:47:29.080183100Z",
     "start_time": "2024-05-10T16:47:29.065255300Z"
    }
   },
   "outputs": [],
   "source": [
    "# Connecting to sqlite\n",
    "# connection object\n",
    "conn = sqlite3.connect('INSTRUCTOR.db')"
   ],
   "execution_count": 3
  },
  {
   "cell_type": "markdown",
   "metadata": {},
   "source": [
    "Cursor class is an instance using which you can invoke methods that execute SQLite statements, fetch data from the result sets of the queries. You can create Cursor object using the cursor() method of the Connection object/class.\n"
   ]
  },
  {
   "cell_type": "code",
   "metadata": {
    "ExecuteTime": {
     "end_time": "2024-05-10T16:47:54.818247600Z",
     "start_time": "2024-05-10T16:47:54.810267700Z"
    }
   },
   "outputs": [],
   "source": [
    "# cursor object\n",
    "cursor_obj = conn.cursor()"
   ],
   "execution_count": 4
  },
  {
   "cell_type": "markdown",
   "metadata": {},
   "source": [
    "## Task 2: Create a table in the database\n",
    "\n",
    "In this step we will create a table in the database with following details:\n",
    "\n",
    "<img src=\"https://cf-courses-data.s3.us.cloud-object-storage.appdomain.cloud/IBMDeveloperSkillsNetwork-DB0201EN-SkillsNetwork/labs/FinalModule_Coursera_V5/images/table.png\" align=\"center\">\n"
   ]
  },
  {
   "cell_type": "markdown",
   "metadata": {},
   "source": [
    "Before creating a table, let's first if the table already exist or not. To drop the table from a database use **DROP** query. A cursor is an object which helps to execute the query and fetch the records from the database.\n"
   ]
  },
  {
   "cell_type": "code",
   "metadata": {
    "ExecuteTime": {
     "end_time": "2024-05-10T16:48:01.272188300Z",
     "start_time": "2024-05-10T16:48:01.258123500Z"
    }
   },
   "outputs": [
    {
     "data": {
      "text/plain": "<sqlite3.Cursor at 0x1aaff3d37c0>"
     },
     "execution_count": 5,
     "metadata": {},
     "output_type": "execute_result"
    }
   ],
   "source": [
    "# Drop the table if already exists.\n",
    "cursor_obj.execute(\"DROP TABLE IF EXISTS INSTRUCTOR\")"
   ],
   "execution_count": 5
  },
  {
   "cell_type": "markdown",
   "metadata": {},
   "source": [
    "## Dont worry if you get this error:\n",
    "\n",
    "If you see an exception/error similar to the following, indicating that INSTRUCTOR is an undefined name, that's okay. It just implies that the INSTRUCTOR table does not exist in the table - which would be the case if you had not created it previously.\n",
    "\n",
    "<strong>Exception: \\[IBM]\\[CLI Driver]\\[DB2/LINUXX8664] SQL0204N  \"ABC12345.INSTRUCTOR\" is an undefined name.  SQLSTATE=42704 SQLCODE=-204</strong>\n"
   ]
  },
  {
   "cell_type": "code",
   "metadata": {
    "ExecuteTime": {
     "end_time": "2024-05-10T16:49:26.769632100Z",
     "start_time": "2024-05-10T16:49:26.756800800Z"
    }
   },
   "outputs": [
    {
     "name": "stdout",
     "output_type": "stream",
     "text": [
      "Table is Ready\n"
     ]
    }
   ],
   "source": [
    "# Creating table\n",
    "table = \"\"\" create table IF NOT EXISTS INSTRUCTOR(ID INTEGER PRIMARY KEY NOT NULL, FNAME VARCHAR(20), LNAME VARCHAR(20), CITY VARCHAR(20), CCODE CHAR(2));\"\"\"\n",
    " \n",
    "cursor_obj.execute(table)\n",
    " \n",
    "print(\"Table is Ready\")"
   ],
   "execution_count": 6
  },
  {
   "cell_type": "markdown",
   "metadata": {},
   "source": [
    "## Task 3: Insert data into the table\n",
    "\n",
    "In this step we will insert some rows of data into the table.\n",
    "\n",
    "The INSTRUCTOR table we created in the previous step contains 3 rows of data:\n",
    "\n",
    "<img src=\"https://cf-courses-data.s3.us.cloud-object-storage.appdomain.cloud/IBMDeveloperSkillsNetwork-DB0201EN-SkillsNetwork/labs/FinalModule_Coursera_V5/images/table1.png\" align=\"center\">\n",
    "\n",
    "We will start by inserting just the first row of data, i.e. for instructor Rav Ahuja\n"
   ]
  },
  {
   "cell_type": "code",
   "metadata": {
    "ExecuteTime": {
     "end_time": "2024-05-10T16:49:33.171948600Z",
     "start_time": "2024-05-10T16:49:33.165064100Z"
    }
   },
   "outputs": [
    {
     "data": {
      "text/plain": "<sqlite3.Cursor at 0x1aaff3d37c0>"
     },
     "execution_count": 7,
     "metadata": {},
     "output_type": "execute_result"
    }
   ],
   "source": [
    "cursor_obj.execute('''insert into INSTRUCTOR values (1, 'Rav', 'Ahuja', 'TORONTO', 'CA')''')"
   ],
   "execution_count": 7
  },
  {
   "cell_type": "markdown",
   "metadata": {},
   "source": [
    "The output you will get something as: <strong>sqlite3.Cursor at 0x27a1a491260</strong> which means mySql database has sqlite3.Cursor object at 0x27a1a49126 as output in table. But you may get the different number.\n",
    "\n",
    "Now use a single query to insert the remaining two rows of data\n"
   ]
  },
  {
   "cell_type": "code",
   "metadata": {
    "ExecuteTime": {
     "end_time": "2024-05-10T16:50:25.631030Z",
     "start_time": "2024-05-10T16:50:25.611502Z"
    }
   },
   "outputs": [
    {
     "data": {
      "text/plain": "<sqlite3.Cursor at 0x1aaff3d37c0>"
     },
     "execution_count": 9,
     "metadata": {},
     "output_type": "execute_result"
    }
   ],
   "source": [
    "cursor_obj.execute('''insert into INSTRUCTOR values (2, 'Raul', 'Chong', 'Markham', 'CA'), (3, 'Hima', 'Vasudevan', 'Chicago', 'US'),(4, 'Gunnar','Maples','Ann Arbor','US')''')"
   ],
   "execution_count": 9
  },
  {
   "cell_type": "markdown",
   "metadata": {},
   "source": [
    "## Task 4: Query data in the table\n",
    "\n",
    "In this step we will retrieve data we inserted into the INSTRUCTOR table.\n"
   ]
  },
  {
   "cell_type": "code",
   "metadata": {},
   "outputs": [],
   "source": [
    "statement = '''SELECT * FROM INSTRUCTOR'''\n",
    "cursor_obj.execute(statement)\n",
    "\n",
    "print(\"All the data\")\n",
    "output_all = cursor_obj.fetchall()\n",
    "for row_all in output_all:\n",
    "  print(row_all)"
   ],
   "execution_count": 0
  },
  {
   "cell_type": "code",
   "metadata": {
    "ExecuteTime": {
     "end_time": "2024-05-10T16:51:57.810855100Z",
     "start_time": "2024-05-10T16:51:57.796350Z"
    }
   },
   "outputs": [
    {
     "name": "stdout",
     "output_type": "stream",
     "text": [
      "Some of the data\n",
      "(1, 'Rav', 'Ahuja', 'TORONTO', 'CA')\n",
      "(2, 'Raul', 'Chong', 'Markham', 'CA')\n"
     ]
    }
   ],
   "source": [
    "## Fetch few rows from the table\n",
    "statement = '''SELECT * FROM INSTRUCTOR'''\n",
    "cursor_obj.execute(statement)\n",
    "  \n",
    "print(\"Some of the data\")\n",
    "# If you want to fetch few rows from the table we use fetchmany(numberofrows) and mention the number how many rows you want to fetch\n",
    "output_many = cursor_obj.fetchmany(2) \n",
    "for row_many in output_many:\n",
    "  print(row_many)"
   ],
   "execution_count": 15
  },
  {
   "cell_type": "code",
   "metadata": {},
   "outputs": [],
   "source": [
    "# Fetch only FNAME from the table\n",
    "statement = '''SELECT FNAME FROM INSTRUCTOR'''\n",
    "cursor_obj.execute(statement)\n",
    "  \n",
    "print(\"All the data\")\n",
    "output_column = cursor_obj.fetchall()\n",
    "for fetch in output_column:\n",
    "  print(fetch)"
   ],
   "execution_count": 0
  },
  {
   "cell_type": "code",
   "execution_count": 17,
   "outputs": [
    {
     "name": "stdout",
     "output_type": "stream",
     "text": [
      "Updated Database\n",
      "(1, 'Rav', 'Ahuja', 'Moosetown', 'CA')\n",
      "(2, 'Raul', 'Chong', 'Markham', 'CA')\n",
      "(3, 'Hima', 'Vasudevan', 'Chicago', 'US')\n",
      "(4, 'Gunnar', 'Maples', 'Ann Arbor', 'US')\n"
     ]
    }
   ],
   "source": [
    "statement = '''UPDATE INSTRUCTOR SET CITY = 'Moosetown' WHERE FNAME = 'Rav' '''\n",
    "cursor_obj.execute(statement)\n",
    "statement = '''SELECT * FROM INSTRUCTOR'''\n",
    "cursor_obj.execute(statement)\n",
    "\n",
    "print('Updated Database')\n",
    "output_column = cursor_obj.fetchall()\n",
    "for fetch in output_column:\n",
    "  print(fetch)"
   ],
   "metadata": {
    "collapsed": false,
    "ExecuteTime": {
     "end_time": "2024-05-10T16:57:07.518746300Z",
     "start_time": "2024-05-10T16:57:07.504667300Z"
    }
   }
  },
  {
   "cell_type": "markdown",
   "metadata": {},
   "source": [
    "<Strong>Bonus: now write and execute an update statement that changes the Rav's CITY to MOOSETOWN</strong>\n"
   ]
  },
  {
   "cell_type": "code",
   "metadata": {},
   "outputs": [],
   "source": [
    "query_update='''update INSTRUCTOR set CITY='MOOSETOWN' where FNAME=\"Rav\"'''\n",
    "cursor_obj.execute(query_update)"
   ]
  },
  {
   "cell_type": "code",
   "metadata": {},
   "outputs": [],
   "source": [
    "statement = '''SELECT * FROM INSTRUCTOR'''\n",
    "cursor_obj.execute(statement)\n",
    "  \n",
    "print(\"All the data\")\n",
    "output1 = cursor_obj.fetchmany(2)\n",
    "for row in output1:\n",
    "  print(row)"
   ]
  },
  {
   "cell_type": "markdown",
   "metadata": {},
   "source": [
    "## Task 5: Retrieve data into Pandas\n",
    "\n",
    "In this step we will retrieve the contents of the INSTRUCTOR table into a Pandas dataframe\n"
   ]
  },
  {
   "cell_type": "code",
   "metadata": {
    "ExecuteTime": {
     "end_time": "2024-05-10T17:32:39.163285400Z",
     "start_time": "2024-05-10T17:32:39.149334Z"
    }
   },
   "outputs": [
    {
     "data": {
      "text/plain": "   ID   FNAME      LNAME       CITY CCODE\n0   1     Rav      Ahuja  Moosetown    CA\n1   2    Raul      Chong    Markham    CA\n2   3    Hima  Vasudevan    Chicago    US\n3   4  Gunnar     Maples  Ann Arbor    US",
      "text/html": "<div>\n<style scoped>\n    .dataframe tbody tr th:only-of-type {\n        vertical-align: middle;\n    }\n\n    .dataframe tbody tr th {\n        vertical-align: top;\n    }\n\n    .dataframe thead th {\n        text-align: right;\n    }\n</style>\n<table border=\"1\" class=\"dataframe\">\n  <thead>\n    <tr style=\"text-align: right;\">\n      <th></th>\n      <th>ID</th>\n      <th>FNAME</th>\n      <th>LNAME</th>\n      <th>CITY</th>\n      <th>CCODE</th>\n    </tr>\n  </thead>\n  <tbody>\n    <tr>\n      <th>0</th>\n      <td>1</td>\n      <td>Rav</td>\n      <td>Ahuja</td>\n      <td>Moosetown</td>\n      <td>CA</td>\n    </tr>\n    <tr>\n      <th>1</th>\n      <td>2</td>\n      <td>Raul</td>\n      <td>Chong</td>\n      <td>Markham</td>\n      <td>CA</td>\n    </tr>\n    <tr>\n      <th>2</th>\n      <td>3</td>\n      <td>Hima</td>\n      <td>Vasudevan</td>\n      <td>Chicago</td>\n      <td>US</td>\n    </tr>\n    <tr>\n      <th>3</th>\n      <td>4</td>\n      <td>Gunnar</td>\n      <td>Maples</td>\n      <td>Ann Arbor</td>\n      <td>US</td>\n    </tr>\n  </tbody>\n</table>\n</div>"
     },
     "execution_count": 18,
     "metadata": {},
     "output_type": "execute_result"
    }
   ],
   "source": [
    "import pandas as pd\n",
    "#retrieve the query results into a pandas dataframe\n",
    "df = pd.read_sql_query(\"select * from instructor;\", conn)\n",
    "\n",
    "#print the dataframe\n",
    "df"
   ],
   "execution_count": 18
  },
  {
   "cell_type": "code",
   "metadata": {
    "ExecuteTime": {
     "end_time": "2024-05-10T17:33:45.408404400Z",
     "start_time": "2024-05-10T17:33:45.395081800Z"
    }
   },
   "outputs": [
    {
     "data": {
      "text/plain": "'Ahuja'"
     },
     "execution_count": 19,
     "metadata": {},
     "output_type": "execute_result"
    }
   ],
   "source": [
    "#print just the LNAME for first row in the pandas data frame\n",
    "df.LNAME[0]"
   ],
   "execution_count": 19
  },
  {
   "cell_type": "markdown",
   "metadata": {},
   "source": [
    "Once the data is in a Pandas dataframe, you can do the typical pandas operations on it.\n",
    "\n",
    "For example you can use the shape method to see how many rows and columns are in the dataframe\n"
   ]
  },
  {
   "cell_type": "code",
   "metadata": {
    "ExecuteTime": {
     "end_time": "2024-05-10T17:33:49.044511600Z",
     "start_time": "2024-05-10T17:33:49.037960100Z"
    }
   },
   "outputs": [
    {
     "data": {
      "text/plain": "(4, 5)"
     },
     "execution_count": 20,
     "metadata": {},
     "output_type": "execute_result"
    }
   ],
   "source": [
    "df.shape"
   ],
   "execution_count": 20
  },
  {
   "cell_type": "markdown",
   "metadata": {},
   "source": [
    "## Task 6: Close the Connection\n",
    "\n",
    "We free all resources by closing the connection. Remember that it is always important to close connections so that we can avoid unused connections taking up resources.\n"
   ]
  },
  {
   "cell_type": "code",
   "metadata": {
    "ExecuteTime": {
     "end_time": "2024-05-10T17:33:53.331254800Z",
     "start_time": "2024-05-10T17:33:53.324771800Z"
    }
   },
   "outputs": [],
   "source": [
    "# Close the connection\n",
    "conn.close()"
   ],
   "execution_count": 21
  },
  {
   "cell_type": "markdown",
   "metadata": {},
   "source": [
    "## Summary\n",
    "\n",
    "In this tutorial you created a database & table in Python notebook using SQLite3. Then created a table and insert a few rows of data into it. Then queried the data. You also retrieved the data into a pandas dataframe.\n"
   ]
  },
  {
   "cell_type": "markdown",
   "metadata": {},
   "source": [
    "## Author\n",
    "\n",
    "<a href=\"https://www.linkedin.com/in/ravahuja/?utm_medium=Exinfluencer&utm_source=Exinfluencer&utm_content=000026UJ&utm_term=10006555&utm_id=NA-SkillsNetwork-Channel-SkillsNetworkCoursesIBMDeveloperSkillsNetworkDB0201ENSkillsNetwork20127838-2021-01-01\" target=\"_blank\">Rav Ahuja</a>\n",
    "\n",
    "<a href=\"https://www.linkedin.com/in/malika-goyal-04798622/?utm_medium=Exinfluencer&utm_source=Exinfluencer&utm_content=000026UJ&utm_term=10006555&utm_id=NA-SkillsNetwork-Channel-SkillsNetworkCoursesIBMDeveloperSkillsNetworkDB0201ENSkillsNetwork20127838-2021-01-01\" target=\"_blank\">Malika</a>\n",
    "\n",
    "## Other Contributor(s)\n",
    "\n",
    "<a href=\"https://www.linkedin.com/in/lakshmi-holla-b39062149/?utm_medium=Exinfluencer&utm_source=Exinfluencer&utm_content=000026UJ&utm_term=10006555&utm_id=NA-SkillsNetwork-Channel-SkillsNetworkCoursesIBMDeveloperSkillsNetworkDB0201ENSkillsNetwork20127838-2021-01-01\" target=\"_blank\">Lakshmi Holla</a>\n",
    "\n",
    "## Change Log\n",
    "\n",
    "| Date (YYYY-MM-DD) | Version | Changed By | Change Description        |\n",
    "| ----------------- | ------- | ---------- | ------------------------- |\n",
    "| 2022-03-03        | 1.0     | Malika     | Created lab using sqlite3 |\n",
    "\n",
    "<hr>\n",
    "\n",
    "## <h3 align=\"center\"> © IBM Corporation 2022. All rights reserved. <h3/>\n"
   ]
  }
 ],
 "metadata": {
  "kernelspec": {
   "name": "python3",
   "language": "python",
   "display_name": "Python 3 (ipykernel)"
  },
  "language_info": {
   "name": "python",
   "version": "3.7.12",
   "mimetype": "text/x-python",
   "codemirror_mode": {
    "name": "ipython",
    "version": 3
   },
   "pygments_lexer": "ipython3",
   "nbconvert_exporter": "python",
   "file_extension": ".py"
  },
  "prev_pub_hash": "83dec4dfd11b04cbf3d049fc36c0717bfddb591dc9a13ac3a543428891581eca"
 },
 "nbformat": 4,
 "nbformat_minor": 4
}
