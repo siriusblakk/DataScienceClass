{
 "cells": [
  {
   "cell_type": "markdown",
   "source": [
    "# Python Notes\n",
    "\n",
    "### This document reviews useful tools, tricks, and processes that I find useful in Python."
   ],
   "metadata": {
    "collapsed": false
   },
   "id": "ae2ecd81a7a2c7e4"
  },
  {
   "cell_type": "markdown",
   "source": [
    "## Webscraping"
   ],
   "metadata": {
    "collapsed": false
   },
   "id": "d94f25add0a6ae12"
  },
  {
   "cell_type": "code",
   "execution_count": 0,
   "outputs": [],
   "source": [
    "# Webscraping for a Table\n",
    "url = 'https://cf-courses-data.s3.us.cloud-object-storage.appdomain.cloud/IBMDeveloperSkillsNetwork-PY0220EN-SkillsNetwork/labs/project/revenue.htm'\n",
    "data = requests.get(url).text #scraped html text data\n",
    "soup = BeautifulSoup(data,'html5lib') #combines this data into a python structure\n",
    "\n",
    "tesla_revenue = pd.DataFrame(columns=['Date','Revenue']) #initializes the empty DataFrame\n",
    "for row in soup.find('table').find_all('tr'): \n",
    "    # 'tr' indicates a row\n",
    "    # 'table' indicates a table\n",
    "    # 'td' is an item on a row\n",
    "        col = row.find_all('td')\n",
    "        if col == []:\n",
    "            pass\n",
    "        else:\n",
    "            date = col[0].text #extracts the text for the first column\n",
    "            revenue = col[1].text #extrats the text for the second column\n",
    "            tesla_revenue_col = pd.DataFrame({\"Date\":date,\"Revenue\":revenue},index=[0]) #builds this into a DataFrame\n",
    "            tesla_revenue = pd.concat([tesla_revenue,tesla_revenue_col],axis = 0) #merges this loop's cycle with the main DataFrame\n",
    "tesla_revenue.reset_index(inplace=True) #index column is screwed up. need to reset it\n",
    "tesla_revenue = tesla_revenue.drop(columns='index') #drop the extra index column\n",
    "\n",
    "tesla_revenue[\"Revenue\"] = tesla_revenue['Revenue'].str.replace('$',\"\") #removes $\n",
    "tesla_revenue[\"Revenue\"] = tesla_revenue['Revenue'].str.replace(',',\"\") #removes ,\n",
    "\n",
    "tesla_revenue.dropna(inplace=True) #removes any NaN values\n",
    "tesla_revenue = tesla_revenue[tesla_revenue['Revenue'] != \"\"] #removes any empty valves"
   ],
   "metadata": {
    "collapsed": false
   },
   "id": "60f686a0d1149968"
  },
  {
   "cell_type": "markdown",
   "source": [
    "## Requests"
   ],
   "metadata": {
    "collapsed": false
   },
   "id": "4d5f19038657216d"
  },
  {
   "cell_type": "code",
   "execution_count": 0,
   "outputs": [],
   "source": [
    "from PIL import Image #import image toolbox\n",
    "import os             # import operating system\n",
    "\n",
    "url='https://www.ibm.com/'  #URL of site\n",
    "r=requests.get(url)         #get contents from URL\n",
    "\n",
    "path=os.path.join(os.getcwd(),'image.png') #create path to write file\n",
    "\n",
    "with open(path,'wb') as f:\n",
    "    f.write(r.content) #write the content (image) from the requests object\n",
    "    \n",
    "Image.open(path) #open the written image file"
   ],
   "metadata": {
    "collapsed": false
   },
   "id": "85aa2b7b2ba45d09"
  },
  {
   "cell_type": "markdown",
   "source": [
    "## Pandas DataFrame\n",
    "\n",
    "<h2>Read/Save Other Data Formats</h2>\n",
    "\n",
    "| Data Formate |        Read       |            Save |\n",
    "| ------------ | :---------------: | --------------: |\n",
    "| csv          |  `pd.read_csv()`  |   `df.to_csv()` |\n",
    "| json         |  `pd.read_json()` |  `df.to_json()` |\n",
    "| excel        | `pd.read_excel()` | `df.to_excel()` |\n",
    "| hdf          |  `pd.read_hdf()`  |   `df.to_hdf()` |\n",
    "| sql          |  `pd.read_sql()`  |   `df.to_sql()` |\n",
    "| ...          |        ...        |             ... |"
   ],
   "metadata": {
    "collapsed": false
   },
   "id": "9b5f3825ba177639"
  },
  {
   "cell_type": "code",
   "execution_count": null,
   "outputs": [],
   "source": [
    "import pandas as pd\n",
    "import numpy as np\n",
    "\n",
    "url ='https://cf-courses-data.s3.us.cloud-object-storage.appdomain.cloud/IBMDeveloperSkillsNetwork-PY0101EN-SkillsNetwork/labs/Module%205/data/addresses.csv'\n",
    "df = pd.read_csv(url,header=None)\n",
    "df.columns =['First Name', 'Last Name', 'Location ', 'City','State','Area Code']\n",
    "\n",
    "# To select the 0th,1st and 2nd row of \"First Name\" column only\n",
    "df.loc[[0, 1, 2], \"First Name\"]\n",
    "\n",
    "#creating a dataframe\n",
    "df=pd.DataFrame(np.array([[1, 2, 3], [4, 5, 6], [7, 8, 9]]), columns=['a', 'b', 'c'])\n",
    "\n",
    "#applying the transform function\n",
    "df = df.transform(func = lambda x : x + 10)"
   ],
   "metadata": {
    "collapsed": false
   },
   "id": "a287af2d51057cb7"
  },
  {
   "cell_type": "code",
   "execution_count": null,
   "outputs": [],
   "source": [
    "#Data Wrangling\n",
    "df.replace(\"?\", np.nan, inplace = True)\n",
    "missing_data = df.isnull()\n",
    "for column in missing_data.columns.values.tolist():\n",
    "    print(column)\n",
    "    print (missing_data[column].value_counts())\n",
    "    print(\"\")    \n",
    "\n",
    "#Replacing Data with Column Means\n",
    "avg_horsepower = df['horsepower'].astype('float').mean(axis=0)\n",
    "df['horsepower'].replace(np.nan, avg_horsepower, inplace=True)\n",
    "\n",
    "#Replace with mode\n",
    "mode_ss = df['Screen_Size_cm'].value_counts().idxmax()\n",
    "print(mode_ss)\n",
    "df[['Screen_Size_cm']].replace(np.nan,mode_ss,inplace=True)\n",
    "\n",
    "#Replacing Data with most frequent value (good for discrete data)\n",
    "df['num-of-doors'].value_counts()\n",
    "freq = df['num-of-doors'].value_counts().idxmax()\n",
    "df[\"num-of-doors\"].replace(np.nan, freq, inplace=True)\n",
    "\n",
    "#Count Nulls\n",
    "columns = df.isnull().columns.values.tolist()\n",
    "nulls = pd.DataFrame(columns=columns)\n",
    "for column in columns:\n",
    "    nulls.loc[0,column] = df.isnull()[column].sum()\n",
    "nulls.head()\n",
    "\n",
    "#Drop whole row with NaN in \"price\" column\n",
    "df.dropna(subset=[\"price\"], axis=0, inplace=True)\n",
    "\n",
    "#Round a Float to a decimal place\n",
    "df[['Screen_Size_cm']] = np.round(df[['Screen_Size_cm']],2)\n",
    "\n",
    "#check the table's types and then correct them below\n",
    "df.dtypes\n",
    "df[[\"bore\", \"stroke\"]] = df[[\"bore\", \"stroke\"]].astype(\"float\")\n",
    "df[[\"normalized-losses\"]] = df[[\"normalized-losses\"]].astype(\"int\")\n",
    "\n",
    "#normalize the values\n",
    "df['length'] = df['length']/df['length'].max() #using max method\n",
    "\n",
    "#binning\n",
    "bins = np.linspace(min(df[\"horsepower\"]), max(df[\"horsepower\"]), 4) \n",
    "#bins the range of values by creating bin edges\n",
    "group_names = ['Low', 'Medium', 'High'] #bin labels\n",
    "df['horsepower-binned'] = pd.cut(df['horsepower'], bins, labels=group_names, include_lowest=True ) #new binned column using pd.cut\n",
    "df[['horsepower','horsepower-binned']].head(20) #display the old and new binned column\n",
    "\n",
    "#Dummy Variables\n",
    "dummy_variable_1 = pd.get_dummies(df[\"fuel-type\"])\n",
    "dummy_variable_1.rename(columns={'gas':'fuel-type-gas', 'diesel':'fuel-type-diesel'}, inplace=True)\n",
    "df = pd.concat([df, dummy_variable_1], axis=1) # merge data frame \"df\" and \"dummy_variable_1\" \n",
    "df.drop(\"fuel-type\", axis = 1, inplace=True) # drop original column \"fuel-type\" from \"df\""
   ],
   "metadata": {
    "collapsed": false
   },
   "id": "527c4a1a43c2a9b4"
  },
  {
   "cell_type": "code",
   "execution_count": null,
   "outputs": [],
   "source": [
    "# Exploratory Data Analysis\n",
    "df.describe() #preliminary statistics on numerical columns\n",
    "df.describe(include = \"all\") #preliminary statistics on all columns\n",
    "df[['length','compression-ratio']].describe() #describe specific columns\n",
    "df.info() #Non-null count\n",
    "\n"
   ],
   "metadata": {
    "collapsed": false
   },
   "id": "8c908f1ac460b324"
  },
  {
   "cell_type": "code",
   "execution_count": null,
   "outputs": [],
   "source": [],
   "metadata": {
    "collapsed": false
   },
   "id": "fdf12cee6807af3"
  }
 ],
 "metadata": {
  "kernelspec": {
   "display_name": "Python 3",
   "language": "python",
   "name": "python3"
  },
  "language_info": {
   "codemirror_mode": {
    "name": "ipython",
    "version": 2
   },
   "file_extension": ".py",
   "mimetype": "text/x-python",
   "name": "python",
   "nbconvert_exporter": "python",
   "pygments_lexer": "ipython2",
   "version": "2.7.6"
  }
 },
 "nbformat": 4,
 "nbformat_minor": 5
}
