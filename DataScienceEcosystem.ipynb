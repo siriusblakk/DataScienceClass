{
 "cells": [
  {
   "cell_type": "markdown",
   "source": [
    "# Data Science Tools and Ecosystem\n",
    "## Author\n",
    "Gunnar Maples"
   ],
   "metadata": {
    "collapsed": false
   },
   "id": "868a8d80c08fa95a"
  },
  {
   "cell_type": "markdown",
   "source": [
    "In this notebook, Data Science Tools and Ecosystem are summarized."
   ],
   "metadata": {
    "collapsed": false
   },
   "id": "f9e8f59092073611"
  },
  {
   "cell_type": "markdown",
   "source": [
    "**Objectives:**\n",
    "* Popular Languages for Data Science\n",
    "* Common Libraries for Data Science\n",
    "* Open Source Development Environments for Data Science"
   ],
   "metadata": {
    "collapsed": false
   },
   "id": "7bb20e5b27afe790"
  },
  {
   "cell_type": "markdown",
   "source": [
    "Some of the popular languages that Data Scientists use are:\n",
    "1. Python\n",
    "2. R\n",
    "3. SQL"
   ],
   "metadata": {
    "collapsed": false
   },
   "id": "1a1a780af42b8c67"
  },
  {
   "cell_type": "markdown",
   "source": [
    "Some of the commonly used libraries used by Data Scientists include:\n",
    "1. pandas\n",
    "2. NumPy\n",
    "3. Matplotlib\n",
    "4. TensorFlow\n",
    "5. PyTorch\n",
    "6. scikit-learn"
   ],
   "metadata": {
    "collapsed": false
   },
   "id": "62d16f21cf09c758"
  },
  {
   "cell_type": "markdown",
   "source": [
    "| Data Science Tools  |\n",
    "|:-------------------:|\n",
    "|       Jupyter       |\n",
    "|      R Studio       |\n",
    "|       Spyder        |"
   ],
   "metadata": {
    "collapsed": false
   },
   "id": "ce4fa4f5182e7896"
  },
  {
   "cell_type": "markdown",
   "source": [],
   "metadata": {
    "collapsed": false
   },
   "id": "ee88a9e28e95b6f8"
  },
  {
   "cell_type": "markdown",
   "source": [
    "### Below are a few examples of evaluating arithmetic expressions in Python:"
   ],
   "metadata": {
    "collapsed": false
   },
   "id": "809963446c0a067b"
  },
  {
   "cell_type": "code",
   "execution_count": 1,
   "outputs": [
    {
     "data": {
      "text/plain": "17"
     },
     "execution_count": 1,
     "metadata": {},
     "output_type": "execute_result"
    }
   ],
   "source": [
    "#This a simple arithmetic expression to mutiply then add integers\n",
    "(3*4)+5"
   ],
   "metadata": {
    "collapsed": false,
    "ExecuteTime": {
     "end_time": "2023-10-23T23:50:42.488952200Z",
     "start_time": "2023-10-23T23:50:42.461000400Z"
    }
   },
   "id": "185649c03689f7ba"
  },
  {
   "cell_type": "code",
   "execution_count": 2,
   "outputs": [
    {
     "data": {
      "text/plain": "3.3333333333333335"
     },
     "execution_count": 2,
     "metadata": {},
     "output_type": "execute_result"
    }
   ],
   "source": [
    "#This will convert 200 minutes to hours by dividing by 60.\n",
    "200/60"
   ],
   "metadata": {
    "collapsed": false,
    "ExecuteTime": {
     "end_time": "2023-10-23T23:52:48.279524300Z",
     "start_time": "2023-10-23T23:52:48.271495400Z"
    }
   },
   "id": "22182d3cf122600e"
  }
 ],
 "metadata": {
  "kernelspec": {
   "display_name": "Python 3",
   "language": "python",
   "name": "python3"
  },
  "language_info": {
   "codemirror_mode": {
    "name": "ipython",
    "version": 2
   },
   "file_extension": ".py",
   "mimetype": "text/x-python",
   "name": "python",
   "nbconvert_exporter": "python",
   "pygments_lexer": "ipython2",
   "version": "2.7.6"
  }
 },
 "nbformat": 4,
 "nbformat_minor": 5
}
