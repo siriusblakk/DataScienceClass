{
 "cells": [
  {
   "cell_type": "markdown",
   "metadata": {},
   "source": [
    "<center>\n",
    "    <img src=\"https://cf-courses-data.s3.us.cloud-object-storage.appdomain.cloud/assets/logos/SN_web_lightmode.png\" width=\"300\" alt=\"cognitiveclass.ai logo\">\n",
    "</center>\n",
    "\n",
    "# Hands-on Lab: API Examples\n",
    "## Random User and Fruityvice API Examples\n",
    "\n",
    "\n",
    "Estimated time needed: **30** minutes\n",
    "\n",
    "## Objectives\n",
    "\n",
    "After completing this lab you will be able to:\n",
    "\n",
    "*   Load and use RandomUser API, using `RandomUser()` Python library\n",
    "*   Load and use Fruityvice API, using `requests` Python library\n",
    "*   Load and use Open-Joke-API, using `requests` Python library\n",
    "\n"
   ]
  },
  {
   "cell_type": "markdown",
   "metadata": {},
   "source": [
    "The purpose of this notebook is to provide more examples on how to use simple APIs. As you have already learned from previous videos and notebooks, API stands for Application Programming Interface and is a software intermediary that allows two applications to talk to each other. \n",
    "\n",
    "The advantages of using APIs:\n",
    " *   **Automation**. Less human effort is required and workflows can be easily updated to become faster and more      \n",
    "     productive.\n",
    " *   **Efficiency**. It allows to use the capabilities of one of the already developed APIs than to try to \n",
    "     independently implement some functionality from scratch.\n",
    " \n",
    "The disadvantage of using APIs:\n",
    " *   **Security**. If the API is poorly integrated, it means it will be vulnerable to attacks, resulting in data breeches or losses having financial or reputation implications.\n",
    "\n",
    "One of the applications we will use in this notebook is Random User Generator. RandomUser is an open-source, free API providing developers with randomly generated users to be used as placeholders for testing purposes. This makes the tool similar to Lorem Ipsum, but is a placeholder for people instead of text. The API can return multiple results, as well as specify generated user details such as gender, email, image, username, address, title, first and last name, and more. More information on [RandomUser](https://randomuser.me/documentation#intro) can be found here.\n",
    "\n",
    "Another example of simple API we will use in this notebook is Fruityvice application. The Fruityvice API web service which provides data for all kinds of fruit! You can use Fruityvice to find out interesting information about fruit and educate yourself. The web service is completely free to use and contribute to.\n"
   ]
  },
  {
   "cell_type": "markdown",
   "metadata": {},
   "source": [
    "## Example 1: RandomUser API\n",
    "Bellow are Get Methods parameters that we can generate. For more information on the parameters, please visit this [documentation](https://randomuser.me/documentation) page.\n"
   ]
  },
  {
   "cell_type": "markdown",
   "metadata": {},
   "source": [
    "## **Get Methods**\n",
    "\n",
    "- get_cell()\n",
    "- get_city()\n",
    "- get_dob()\n",
    "- get_email()\n",
    "- get_first_name()\n",
    "- get_full_name()\n",
    "- get_gender()\n",
    "- get_id()\n",
    "- get_id_number()\n",
    "- get_id_type()\n",
    "- get_info()\n",
    "- get_last_name()\n",
    "- get_login_md5()\n",
    "- get_login_salt()\n",
    "- get_login_sha1()\n",
    "- get_login_sha256()\n",
    "- get_nat()\n",
    "- get_password()\n",
    "- get_phone()\n",
    "- get_picture()\n",
    "- get_postcode()\n",
    "- get_registered()\n",
    "- get_state()\n",
    "- get_street()\n",
    "- get_username()\n",
    "- get_zipcode()\n"
   ]
  },
  {
   "cell_type": "markdown",
   "metadata": {},
   "source": [
    "To start using the API you can install the `randomuser` library running the `pip install` command.\n"
   ]
  },
  {
   "cell_type": "code",
   "metadata": {
    "ExecuteTime": {
     "end_time": "2023-11-16T17:11:14.814732300Z",
     "start_time": "2023-11-16T17:11:10.369204800Z"
    }
   },
   "outputs": [
    {
     "name": "stdout",
     "output_type": "stream",
     "text": [
      "Collecting randomuser\n",
      "  Downloading randomuser-1.6.tar.gz (5.0 kB)\n",
      "  Preparing metadata (setup.py): started\n",
      "  Preparing metadata (setup.py): finished with status 'done'\n",
      "Installing collected packages: randomuser\n",
      "  Running setup.py install for randomuser: started\n",
      "  Running setup.py install for randomuser: finished with status 'done'\n",
      "Successfully installed randomuser-1.6\n"
     ]
    },
    {
     "name": "stderr",
     "output_type": "stream",
     "text": [
      "  DEPRECATION: randomuser is being installed using the legacy 'setup.py install' method, because it does not have a 'pyproject.toml' and the 'wheel' package is not installed. pip 23.1 will enforce this behaviour change. A possible replacement is to enable the '--use-pep517' option. Discussion can be found at https://github.com/pypa/pip/issues/8559\n",
      "\n",
      "[notice] A new release of pip available: 22.3.1 -> 23.3.1\n",
      "[notice] To update, run: python.exe -m pip install --upgrade pip\n"
     ]
    }
   ],
   "source": [
    "!pip install randomuser"
   ],
   "execution_count": 1
  },
  {
   "cell_type": "markdown",
   "metadata": {},
   "source": [
    "Then, we will load the necessary libraries.\n"
   ]
  },
  {
   "cell_type": "code",
   "metadata": {
    "ExecuteTime": {
     "end_time": "2023-11-16T17:11:26.331034500Z",
     "start_time": "2023-11-16T17:11:25.795472800Z"
    }
   },
   "outputs": [],
   "source": [
    "from randomuser import RandomUser\n",
    "import pandas as pd"
   ],
   "execution_count": 2
  },
  {
   "cell_type": "markdown",
   "metadata": {},
   "source": [
    "First, we will create a random user object, r.\n"
   ]
  },
  {
   "cell_type": "code",
   "metadata": {
    "ExecuteTime": {
     "end_time": "2023-11-16T17:11:31.279678300Z",
     "start_time": "2023-11-16T17:11:31.044331Z"
    }
   },
   "outputs": [],
   "source": [
    "r = RandomUser()"
   ],
   "execution_count": 3
  },
  {
   "cell_type": "markdown",
   "metadata": {},
   "source": [
    "Then, using `generate_users()` function, we get a list of random 10 users.\n"
   ]
  },
  {
   "cell_type": "code",
   "metadata": {
    "ExecuteTime": {
     "end_time": "2023-11-16T17:11:34.585002900Z",
     "start_time": "2023-11-16T17:11:34.320105800Z"
    }
   },
   "outputs": [],
   "source": [
    "some_list = r.generate_users(10)"
   ],
   "execution_count": 4
  },
  {
   "cell_type": "code",
   "metadata": {
    "ExecuteTime": {
     "end_time": "2023-11-16T17:11:35.995195100Z",
     "start_time": "2023-11-16T17:11:35.980483100Z"
    }
   },
   "outputs": [
    {
     "data": {
      "text/plain": "[<randomuser.RandomUser at 0x209f27c9f50>,\n <randomuser.RandomUser at 0x209f27c9f90>,\n <randomuser.RandomUser at 0x209f27c9fd0>,\n <randomuser.RandomUser at 0x209f27ca010>,\n <randomuser.RandomUser at 0x209f27ca050>,\n <randomuser.RandomUser at 0x209f27ca0d0>,\n <randomuser.RandomUser at 0x209f27ca110>,\n <randomuser.RandomUser at 0x209f27ca150>,\n <randomuser.RandomUser at 0x209f27ca190>,\n <randomuser.RandomUser at 0x209f27ca090>]"
     },
     "execution_count": 5,
     "metadata": {},
     "output_type": "execute_result"
    }
   ],
   "source": [
    "some_list"
   ],
   "execution_count": 5
  },
  {
   "cell_type": "markdown",
   "metadata": {},
   "source": [
    "The **\"Get Methods\"** functions mentioned at the beginning of this notebook, can generate the required parameters to construct a dataset. For example, to get full name, we call `get_full_name()` function.\n"
   ]
  },
  {
   "cell_type": "code",
   "metadata": {
    "ExecuteTime": {
     "end_time": "2023-11-16T17:11:43.233700900Z",
     "start_time": "2023-11-16T17:11:43.227186200Z"
    }
   },
   "outputs": [],
   "source": [
    "name = r.get_full_name()"
   ],
   "execution_count": 6
  },
  {
   "cell_type": "markdown",
   "metadata": {},
   "source": [
    "Let's say we only need 10 users with full names and their email addresses. We can write a \"for-loop\" to print these 10 users.\n"
   ]
  },
  {
   "cell_type": "code",
   "metadata": {
    "ExecuteTime": {
     "end_time": "2023-11-16T17:12:02.534140800Z",
     "start_time": "2023-11-16T17:12:02.517654800Z"
    }
   },
   "outputs": [
    {
     "name": "stdout",
     "output_type": "stream",
     "text": [
      "مریم نكو نظر   mrym.nkwnzr@example.com\n",
      "Simon Ennis   simon.ennis@example.com\n",
      "Charline Caron   charline.caron@example.com\n",
      "Dino Carvalho   dino.carvalho@example.com\n",
      "Toivo Kumpula   toivo.kumpula@example.com\n",
      "Emre Çetin   emre.cetin@example.com\n",
      "Mehmet Erkekli   mehmet.erkekli@example.com\n",
      "Jordi Ortega   jordi.ortega@example.com\n",
      "Konsta Ojala   konsta.ojala@example.com\n",
      "Eugene West   eugene.west@example.com\n"
     ]
    }
   ],
   "source": [
    "for user in some_list:\n",
    "    print (user.get_full_name(),\" \",user.get_email())"
   ],
   "execution_count": 7
  },
  {
   "cell_type": "markdown",
   "metadata": {},
   "source": [
    "## Exercise 1\n",
    "In this Exercise, generate photos of the random 10 users.\n"
   ]
  },
  {
   "cell_type": "code",
   "metadata": {
    "ExecuteTime": {
     "end_time": "2023-11-16T17:13:43.307909200Z",
     "start_time": "2023-11-16T17:13:42.897017400Z"
    }
   },
   "outputs": [
    {
     "name": "stdout",
     "output_type": "stream",
     "text": [
      "https://randomuser.me/api/portraits/men/9.jpg\n",
      "https://randomuser.me/api/portraits/women/95.jpg\n",
      "https://randomuser.me/api/portraits/women/42.jpg\n",
      "https://randomuser.me/api/portraits/men/41.jpg\n",
      "https://randomuser.me/api/portraits/men/60.jpg\n",
      "https://randomuser.me/api/portraits/women/88.jpg\n",
      "https://randomuser.me/api/portraits/men/95.jpg\n",
      "https://randomuser.me/api/portraits/women/52.jpg\n",
      "https://randomuser.me/api/portraits/men/7.jpg\n",
      "https://randomuser.me/api/portraits/women/51.jpg\n"
     ]
    }
   ],
   "source": [
    "## Write your code here\n",
    "r = RandomUser()\n",
    "users = r.generate_users(10)\n",
    "for user in users:\n",
    "    print(user.get_picture())"
   ],
   "execution_count": 8
  },
  {
   "cell_type": "markdown",
   "metadata": {},
   "source": [
    "<details><summary>Click here for the solution</summary>\n",
    "\n",
    "```python\n",
    "for user in some_list:\n",
    "    print (user.get_picture())\n",
    "```\n",
    "\n",
    "</details>\n"
   ]
  },
  {
   "cell_type": "markdown",
   "metadata": {},
   "source": [
    "To generate a table with information about the users, we can write a function containing all desirable parameters. For example, name, gender, city, etc. The parameters will depend on the requirements of the test to be performed. We call the Get Methods, listed at the beginning of this notebook. Then, we return pandas dataframe with the users.\n"
   ]
  },
  {
   "cell_type": "code",
   "metadata": {
    "ExecuteTime": {
     "end_time": "2023-11-16T17:15:52.500549900Z",
     "start_time": "2023-11-16T17:15:52.481529900Z"
    }
   },
   "outputs": [],
   "source": [
    "def get_users():\n",
    "    users =[]\n",
    "     \n",
    "    for user in RandomUser.generate_users(10):\n",
    "        users.append({\"Name\":user.get_full_name(),\"Gender\":user.get_gender(),\"City\":user.get_city(),\"State\":user.get_state(),\"Email\":user.get_email(), \"DOB\":user.get_dob(),\"Picture\":user.get_picture()})\n",
    "      \n",
    "    return pd.DataFrame(users)     "
   ],
   "execution_count": 9
  },
  {
   "cell_type": "code",
   "metadata": {
    "ExecuteTime": {
     "end_time": "2023-11-16T17:15:54.176749200Z",
     "start_time": "2023-11-16T17:15:53.922805600Z"
    }
   },
   "outputs": [
    {
     "data": {
      "text/plain": "                  Name  Gender            City           State  \\\n0            آدرین صدر    male           دزفول  آذربایجان شرقی   \n1  Thérèse Hooijschuur  female  De Ronde Venen         Limburg   \n2          Aitor Gomez    male      Pontevedra          Aragón   \n3        Signe Poulsen  female          Lundby     Midtjylland   \n4      Tracy Farragher  female    Passage West           Laois   \n5        Castor Mendes    male     Santa Luzia           Ceará   \n6           Matz Kruse    male        Rijswijk       Flevoland   \n7           آوین زارعی  female          گلستان            فارس   \n8       Zachary Miller    male       Maidstone    Saskatchewan   \n9       Paige Franklin  female            Rush           Clare   \n\n                             Email                       DOB  \\\n0            adryn.sdr@example.com  1981-10-04T18:08:38.856Z   \n1  therese.hooijschuur@example.com  1987-02-01T09:18:16.923Z   \n2          aitor.gomez@example.com  1978-03-23T19:38:44.374Z   \n3        signe.poulsen@example.com  1971-06-01T10:17:20.900Z   \n4      tracy.farragher@example.com  1950-03-24T08:25:22.581Z   \n5        castor.mendes@example.com  1988-08-28T00:22:21.899Z   \n6           matz.kruse@example.com  1971-07-03T16:53:24.237Z   \n7           awyn.zraay@example.com  1962-01-26T07:53:33.192Z   \n8       zachary.miller@example.com  1992-03-26T13:08:34.987Z   \n9       paige.franklin@example.com  1990-04-30T09:43:24.129Z   \n\n                                            Picture  \n0    https://randomuser.me/api/portraits/men/99.jpg  \n1  https://randomuser.me/api/portraits/women/63.jpg  \n2    https://randomuser.me/api/portraits/men/34.jpg  \n3  https://randomuser.me/api/portraits/women/42.jpg  \n4  https://randomuser.me/api/portraits/women/83.jpg  \n5    https://randomuser.me/api/portraits/men/39.jpg  \n6    https://randomuser.me/api/portraits/men/63.jpg  \n7  https://randomuser.me/api/portraits/women/69.jpg  \n8    https://randomuser.me/api/portraits/men/99.jpg  \n9  https://randomuser.me/api/portraits/women/70.jpg  ",
      "text/html": "<div>\n<style scoped>\n    .dataframe tbody tr th:only-of-type {\n        vertical-align: middle;\n    }\n\n    .dataframe tbody tr th {\n        vertical-align: top;\n    }\n\n    .dataframe thead th {\n        text-align: right;\n    }\n</style>\n<table border=\"1\" class=\"dataframe\">\n  <thead>\n    <tr style=\"text-align: right;\">\n      <th></th>\n      <th>Name</th>\n      <th>Gender</th>\n      <th>City</th>\n      <th>State</th>\n      <th>Email</th>\n      <th>DOB</th>\n      <th>Picture</th>\n    </tr>\n  </thead>\n  <tbody>\n    <tr>\n      <th>0</th>\n      <td>آدرین صدر</td>\n      <td>male</td>\n      <td>دزفول</td>\n      <td>آذربایجان شرقی</td>\n      <td>adryn.sdr@example.com</td>\n      <td>1981-10-04T18:08:38.856Z</td>\n      <td>https://randomuser.me/api/portraits/men/99.jpg</td>\n    </tr>\n    <tr>\n      <th>1</th>\n      <td>Thérèse Hooijschuur</td>\n      <td>female</td>\n      <td>De Ronde Venen</td>\n      <td>Limburg</td>\n      <td>therese.hooijschuur@example.com</td>\n      <td>1987-02-01T09:18:16.923Z</td>\n      <td>https://randomuser.me/api/portraits/women/63.jpg</td>\n    </tr>\n    <tr>\n      <th>2</th>\n      <td>Aitor Gomez</td>\n      <td>male</td>\n      <td>Pontevedra</td>\n      <td>Aragón</td>\n      <td>aitor.gomez@example.com</td>\n      <td>1978-03-23T19:38:44.374Z</td>\n      <td>https://randomuser.me/api/portraits/men/34.jpg</td>\n    </tr>\n    <tr>\n      <th>3</th>\n      <td>Signe Poulsen</td>\n      <td>female</td>\n      <td>Lundby</td>\n      <td>Midtjylland</td>\n      <td>signe.poulsen@example.com</td>\n      <td>1971-06-01T10:17:20.900Z</td>\n      <td>https://randomuser.me/api/portraits/women/42.jpg</td>\n    </tr>\n    <tr>\n      <th>4</th>\n      <td>Tracy Farragher</td>\n      <td>female</td>\n      <td>Passage West</td>\n      <td>Laois</td>\n      <td>tracy.farragher@example.com</td>\n      <td>1950-03-24T08:25:22.581Z</td>\n      <td>https://randomuser.me/api/portraits/women/83.jpg</td>\n    </tr>\n    <tr>\n      <th>5</th>\n      <td>Castor Mendes</td>\n      <td>male</td>\n      <td>Santa Luzia</td>\n      <td>Ceará</td>\n      <td>castor.mendes@example.com</td>\n      <td>1988-08-28T00:22:21.899Z</td>\n      <td>https://randomuser.me/api/portraits/men/39.jpg</td>\n    </tr>\n    <tr>\n      <th>6</th>\n      <td>Matz Kruse</td>\n      <td>male</td>\n      <td>Rijswijk</td>\n      <td>Flevoland</td>\n      <td>matz.kruse@example.com</td>\n      <td>1971-07-03T16:53:24.237Z</td>\n      <td>https://randomuser.me/api/portraits/men/63.jpg</td>\n    </tr>\n    <tr>\n      <th>7</th>\n      <td>آوین زارعی</td>\n      <td>female</td>\n      <td>گلستان</td>\n      <td>فارس</td>\n      <td>awyn.zraay@example.com</td>\n      <td>1962-01-26T07:53:33.192Z</td>\n      <td>https://randomuser.me/api/portraits/women/69.jpg</td>\n    </tr>\n    <tr>\n      <th>8</th>\n      <td>Zachary Miller</td>\n      <td>male</td>\n      <td>Maidstone</td>\n      <td>Saskatchewan</td>\n      <td>zachary.miller@example.com</td>\n      <td>1992-03-26T13:08:34.987Z</td>\n      <td>https://randomuser.me/api/portraits/men/99.jpg</td>\n    </tr>\n    <tr>\n      <th>9</th>\n      <td>Paige Franklin</td>\n      <td>female</td>\n      <td>Rush</td>\n      <td>Clare</td>\n      <td>paige.franklin@example.com</td>\n      <td>1990-04-30T09:43:24.129Z</td>\n      <td>https://randomuser.me/api/portraits/women/70.jpg</td>\n    </tr>\n  </tbody>\n</table>\n</div>"
     },
     "execution_count": 10,
     "metadata": {},
     "output_type": "execute_result"
    }
   ],
   "source": [
    "get_users()"
   ],
   "execution_count": 10
  },
  {
   "cell_type": "code",
   "metadata": {
    "ExecuteTime": {
     "end_time": "2023-11-16T17:16:14.376469200Z",
     "start_time": "2023-11-16T17:16:14.085584600Z"
    }
   },
   "outputs": [
    {
     "data": {
      "text/plain": "               Name  Gender                    City                State  \\\n0     Veronica Soto  female                Móstoles  Comunidad de Madrid   \n1    Felipe Vicente    male              Valladolid            Cantabria   \n2    Theodore Brown    male                 Phoenix              Indiana   \n3      Sofia Foster  female                Coventry      Buckinghamshire   \n4     Rosie Collins  female                Listowel                 Cork   \n5     Nicole Moreno  female               Sheffield                Essex   \n6     Marta Garrido  female  Santiago de Compostela             La Rioja   \n7      Robin Brunet    male         Rueil-Malmaison               Creuse   \n8  آوین سلطانی نژاد  female                   زنجان  کهگیلویه و بویراحمد   \n9       Albina Jean  female      Eppenberg-Wöschnau                 Jura   \n\n                        Email                       DOB  \\\n0   veronica.soto@example.com  1956-01-09T09:56:50.289Z   \n1  felipe.vicente@example.com  1974-01-29T12:54:07.865Z   \n2  theodore.brown@example.com  1988-03-22T17:16:33.043Z   \n3    sofia.foster@example.com  1949-08-27T12:18:25.777Z   \n4   rosie.collins@example.com  1966-07-08T23:43:23.691Z   \n5   nicole.moreno@example.com  1945-10-11T21:29:22.218Z   \n6   marta.garrido@example.com  1983-11-01T15:48:56.200Z   \n7    robin.brunet@example.com  1971-01-09T20:46:18.166Z   \n8   awyn.sltnynjd@example.com  1949-03-18T10:49:42.054Z   \n9     albina.jean@example.com  1992-03-04T12:23:29.607Z   \n\n                                            Picture  \n0  https://randomuser.me/api/portraits/women/16.jpg  \n1     https://randomuser.me/api/portraits/men/7.jpg  \n2    https://randomuser.me/api/portraits/men/37.jpg  \n3  https://randomuser.me/api/portraits/women/69.jpg  \n4  https://randomuser.me/api/portraits/women/77.jpg  \n5  https://randomuser.me/api/portraits/women/85.jpg  \n6  https://randomuser.me/api/portraits/women/23.jpg  \n7    https://randomuser.me/api/portraits/men/68.jpg  \n8  https://randomuser.me/api/portraits/women/22.jpg  \n9  https://randomuser.me/api/portraits/women/34.jpg  ",
      "text/html": "<div>\n<style scoped>\n    .dataframe tbody tr th:only-of-type {\n        vertical-align: middle;\n    }\n\n    .dataframe tbody tr th {\n        vertical-align: top;\n    }\n\n    .dataframe thead th {\n        text-align: right;\n    }\n</style>\n<table border=\"1\" class=\"dataframe\">\n  <thead>\n    <tr style=\"text-align: right;\">\n      <th></th>\n      <th>Name</th>\n      <th>Gender</th>\n      <th>City</th>\n      <th>State</th>\n      <th>Email</th>\n      <th>DOB</th>\n      <th>Picture</th>\n    </tr>\n  </thead>\n  <tbody>\n    <tr>\n      <th>0</th>\n      <td>Veronica Soto</td>\n      <td>female</td>\n      <td>Móstoles</td>\n      <td>Comunidad de Madrid</td>\n      <td>veronica.soto@example.com</td>\n      <td>1956-01-09T09:56:50.289Z</td>\n      <td>https://randomuser.me/api/portraits/women/16.jpg</td>\n    </tr>\n    <tr>\n      <th>1</th>\n      <td>Felipe Vicente</td>\n      <td>male</td>\n      <td>Valladolid</td>\n      <td>Cantabria</td>\n      <td>felipe.vicente@example.com</td>\n      <td>1974-01-29T12:54:07.865Z</td>\n      <td>https://randomuser.me/api/portraits/men/7.jpg</td>\n    </tr>\n    <tr>\n      <th>2</th>\n      <td>Theodore Brown</td>\n      <td>male</td>\n      <td>Phoenix</td>\n      <td>Indiana</td>\n      <td>theodore.brown@example.com</td>\n      <td>1988-03-22T17:16:33.043Z</td>\n      <td>https://randomuser.me/api/portraits/men/37.jpg</td>\n    </tr>\n    <tr>\n      <th>3</th>\n      <td>Sofia Foster</td>\n      <td>female</td>\n      <td>Coventry</td>\n      <td>Buckinghamshire</td>\n      <td>sofia.foster@example.com</td>\n      <td>1949-08-27T12:18:25.777Z</td>\n      <td>https://randomuser.me/api/portraits/women/69.jpg</td>\n    </tr>\n    <tr>\n      <th>4</th>\n      <td>Rosie Collins</td>\n      <td>female</td>\n      <td>Listowel</td>\n      <td>Cork</td>\n      <td>rosie.collins@example.com</td>\n      <td>1966-07-08T23:43:23.691Z</td>\n      <td>https://randomuser.me/api/portraits/women/77.jpg</td>\n    </tr>\n    <tr>\n      <th>5</th>\n      <td>Nicole Moreno</td>\n      <td>female</td>\n      <td>Sheffield</td>\n      <td>Essex</td>\n      <td>nicole.moreno@example.com</td>\n      <td>1945-10-11T21:29:22.218Z</td>\n      <td>https://randomuser.me/api/portraits/women/85.jpg</td>\n    </tr>\n    <tr>\n      <th>6</th>\n      <td>Marta Garrido</td>\n      <td>female</td>\n      <td>Santiago de Compostela</td>\n      <td>La Rioja</td>\n      <td>marta.garrido@example.com</td>\n      <td>1983-11-01T15:48:56.200Z</td>\n      <td>https://randomuser.me/api/portraits/women/23.jpg</td>\n    </tr>\n    <tr>\n      <th>7</th>\n      <td>Robin Brunet</td>\n      <td>male</td>\n      <td>Rueil-Malmaison</td>\n      <td>Creuse</td>\n      <td>robin.brunet@example.com</td>\n      <td>1971-01-09T20:46:18.166Z</td>\n      <td>https://randomuser.me/api/portraits/men/68.jpg</td>\n    </tr>\n    <tr>\n      <th>8</th>\n      <td>آوین سلطانی نژاد</td>\n      <td>female</td>\n      <td>زنجان</td>\n      <td>کهگیلویه و بویراحمد</td>\n      <td>awyn.sltnynjd@example.com</td>\n      <td>1949-03-18T10:49:42.054Z</td>\n      <td>https://randomuser.me/api/portraits/women/22.jpg</td>\n    </tr>\n    <tr>\n      <th>9</th>\n      <td>Albina Jean</td>\n      <td>female</td>\n      <td>Eppenberg-Wöschnau</td>\n      <td>Jura</td>\n      <td>albina.jean@example.com</td>\n      <td>1992-03-04T12:23:29.607Z</td>\n      <td>https://randomuser.me/api/portraits/women/34.jpg</td>\n    </tr>\n  </tbody>\n</table>\n</div>"
     },
     "execution_count": 12,
     "metadata": {},
     "output_type": "execute_result"
    }
   ],
   "source": [
    "df1 = pd.DataFrame(get_users())  \n",
    "df1"
   ],
   "execution_count": 12
  },
  {
   "cell_type": "markdown",
   "metadata": {},
   "source": [
    "Now we have a *pandas* dataframe that can be used for any testing purposes that the tester might have.\n"
   ]
  },
  {
   "cell_type": "markdown",
   "metadata": {},
   "source": [
    "## Example 2: Fruityvice API\n",
    "\n",
    "Another, more common way to use APIs, is through `requests` library. The next lab, Requests and HTTP, will contain more information about requests.\n",
    "\n",
    "We will start by importing all required libraries.\n"
   ]
  },
  {
   "cell_type": "code",
   "metadata": {
    "ExecuteTime": {
     "end_time": "2023-11-16T17:16:50.092231200Z",
     "start_time": "2023-11-16T17:16:50.010712Z"
    }
   },
   "outputs": [],
   "source": [
    "import requests\n",
    "import json"
   ],
   "execution_count": 13
  },
  {
   "cell_type": "markdown",
   "metadata": {},
   "source": [
    "We will obtain the [fruityvice](https://www.fruityvice.com) API data using `requests.get(\"url\")` function. The data is in a json format.\n"
   ]
  },
  {
   "cell_type": "code",
   "metadata": {
    "ExecuteTime": {
     "end_time": "2023-11-16T17:17:04.231336100Z",
     "start_time": "2023-11-16T17:17:02.711016700Z"
    }
   },
   "outputs": [],
   "source": [
    "data = requests.get(\"https://fruityvice.com/api/fruit/all\")"
   ],
   "execution_count": 14
  },
  {
   "cell_type": "markdown",
   "metadata": {},
   "source": [
    "We will retrieve results using `json.loads()` function.\n"
   ]
  },
  {
   "cell_type": "code",
   "metadata": {
    "ExecuteTime": {
     "end_time": "2023-11-16T17:17:08.762352700Z",
     "start_time": "2023-11-16T17:17:08.731844300Z"
    }
   },
   "outputs": [],
   "source": [
    "results = json.loads(data.text)"
   ],
   "execution_count": 15
  },
  {
   "cell_type": "markdown",
   "metadata": {},
   "source": [
    "We will convert our json data into *pandas* data frame. \n"
   ]
  },
  {
   "cell_type": "code",
   "metadata": {
    "ExecuteTime": {
     "end_time": "2023-11-16T17:17:12.125715800Z",
     "start_time": "2023-11-16T17:17:12.080015600Z"
    }
   },
   "outputs": [
    {
     "data": {
      "text/plain": "            name  id           family             order         genus  \\\n0      Persimmon  52        Ebenaceae           Rosales     Diospyros   \n1     Strawberry   3         Rosaceae           Rosales      Fragaria   \n2         Banana   1         Musaceae      Zingiberales          Musa   \n3         Tomato   5       Solanaceae         Solanales       Solanum   \n4           Pear   4         Rosaceae           Rosales         Pyrus   \n5         Durian  60        Malvaceae          Malvales         Durio   \n6     Blackberry  64         Rosaceae           Rosales         Rubus   \n7    Lingonberry  65        Ericaceae          Ericales     Vaccinium   \n8           Kiwi  66    Actinidiaceae  Struthioniformes       Apteryx   \n9         Lychee  67      Sapindaceae        Sapindales        Litchi   \n10     Pineapple  10     Bromeliaceae            Poales        Ananas   \n11           Fig  68         Moraceae           Rosales         Ficus   \n12    Gooseberry  69  Grossulariaceae      Saxifragales         Ribes   \n13  Passionfruit  70   Passifloraceae      Malpighiales    Passiflora   \n14          Plum  71         Rosaceae           Rosales        Prunus   \n15        Orange   2         Rutaceae        Sapindales        Citrus   \n16    GreenApple  72         Rosaceae           Rosales         Malus   \n17     Raspberry  23         Rosaceae           Rosales         Rubus   \n18    Watermelon  25    Cucurbitaceae      Cucurbitales     Citrullus   \n19         Lemon  26         Rutaceae        Sapindales        Citrus   \n20         Mango  27    Anacardiaceae        Sapindales     Mangifera   \n21     Blueberry  33         Rosaceae           Rosales      Fragaria   \n22         Apple   6         Rosaceae           Rosales         Malus   \n23         Guava  37        Myrtaceae          Myrtales       Psidium   \n24       Apricot  35         Rosaceae           Rosales        Prunus   \n25        Papaya  42       Caricaceae         Caricacea        Carica   \n26         Melon  41    Cucurbitaceae     Cucurbitaceae       Cucumis   \n27     Tangerine  77         Rutaceae        Sapindales        Citrus   \n28      Pitahaya  78        Cactaceae    Caryophyllales     Cactaceae   \n29          Lime  44         Rutaceae        Sapindales        Citrus   \n30   Pomegranate  79       Lythraceae          Myrtales        Punica   \n31   Dragonfruit  80        Cactaceae    Caryophyllales  Selenicereus   \n32         Grape  81         Vitaceae           Vitales         Vitis   \n33         Morus  82         Moraceae           Rosales         Morus   \n34        Feijoa  76        Myrtaceae        Myrtoideae    Sellowiana   \n35       Avocado  84        Lauraceae          Laurales        Persea   \n36     Kiwifruit  85    Actinidiaceae          Ericales     Actinidia   \n37     Cranberry  87        Ericaceae          Ericales     Vaccinium   \n38        Cherry   9         Rosaceae           Rosales        Prunus   \n39         Peach  86         Rosaceae           Rosales        Prunus   \n40     Jackfruit  94         Moraceae           Rosales    Artocarpus   \n41  Horned Melon  95    Cucurbitaceae      Cucurbitales       Cucumis   \n42      Hazelnut  96       Betulaceae           Fagales       Corylus   \n43        Pomelo  98         Rutaceae        Sapindales        Citrus   \n44    Mangosteen  99       Clusiaceae      Malpighiales      Garcinia   \n\n                                           nutritions  \n0   {'calories': 81, 'fat': 0.0, 'sugar': 18.0, 'c...  \n1   {'calories': 29, 'fat': 0.4, 'sugar': 5.4, 'ca...  \n2   {'calories': 96, 'fat': 0.2, 'sugar': 17.2, 'c...  \n3   {'calories': 74, 'fat': 0.2, 'sugar': 2.6, 'ca...  \n4   {'calories': 57, 'fat': 0.1, 'sugar': 10.0, 'c...  \n5   {'calories': 147, 'fat': 5.3, 'sugar': 6.75, '...  \n6   {'calories': 40, 'fat': 0.4, 'sugar': 4.5, 'ca...  \n7   {'calories': 50, 'fat': 0.34, 'sugar': 5.74, '...  \n8   {'calories': 61, 'fat': 0.5, 'sugar': 9.0, 'ca...  \n9   {'calories': 66, 'fat': 0.44, 'sugar': 15.0, '...  \n10  {'calories': 50, 'fat': 0.12, 'sugar': 9.85, '...  \n11  {'calories': 74, 'fat': 0.3, 'sugar': 16.0, 'c...  \n12  {'calories': 44, 'fat': 0.6, 'sugar': 0.0, 'ca...  \n13  {'calories': 97, 'fat': 0.7, 'sugar': 11.2, 'c...  \n14  {'calories': 46, 'fat': 0.28, 'sugar': 9.92, '...  \n15  {'calories': 43, 'fat': 0.2, 'sugar': 8.2, 'ca...  \n16  {'calories': 21, 'fat': 0.1, 'sugar': 6.4, 'ca...  \n17  {'calories': 53, 'fat': 0.7, 'sugar': 4.4, 'ca...  \n18  {'calories': 30, 'fat': 0.2, 'sugar': 6.0, 'ca...  \n19  {'calories': 29, 'fat': 0.3, 'sugar': 2.5, 'ca...  \n20  {'calories': 60, 'fat': 0.38, 'sugar': 13.7, '...  \n21  {'calories': 29, 'fat': 0.4, 'sugar': 5.4, 'ca...  \n22  {'calories': 52, 'fat': 0.4, 'sugar': 10.3, 'c...  \n23  {'calories': 68, 'fat': 1.0, 'sugar': 9.0, 'ca...  \n24  {'calories': 15, 'fat': 0.1, 'sugar': 3.2, 'ca...  \n25  {'calories': 43, 'fat': 0.4, 'sugar': 1.0, 'ca...  \n26  {'calories': 34, 'fat': 0.0, 'sugar': 8.0, 'ca...  \n27  {'calories': 45, 'fat': 0.4, 'sugar': 9.1, 'ca...  \n28  {'calories': 36, 'fat': 0.4, 'sugar': 3.0, 'ca...  \n29  {'calories': 25, 'fat': 0.1, 'sugar': 1.7, 'ca...  \n30  {'calories': 83, 'fat': 1.2, 'sugar': 13.7, 'c...  \n31  {'calories': 60, 'fat': 1.5, 'sugar': 8.0, 'ca...  \n32  {'calories': 69, 'fat': 0.16, 'sugar': 16.0, '...  \n33  {'calories': 43, 'fat': 0.39, 'sugar': 8.1, 'c...  \n34  {'calories': 44, 'fat': 0.4, 'sugar': 3.0, 'ca...  \n35  {'calories': 160, 'fat': 14.66, 'sugar': 0.66,...  \n36  {'calories': 61, 'fat': 0.5, 'sugar': 8.9, 'ca...  \n37  {'calories': 46, 'fat': 0.1, 'sugar': 4.0, 'ca...  \n38  {'calories': 50, 'fat': 0.3, 'sugar': 8.0, 'ca...  \n39  {'calories': 39, 'fat': 0.25, 'sugar': 8.4, 'c...  \n40  {'calories': 95, 'fat': 0.0, 'sugar': 19.1, 'c...  \n41  {'calories': 44, 'fat': 1.26, 'sugar': 0.5, 'c...  \n42  {'calories': 628, 'fat': 61.0, 'sugar': 4.3, '...  \n43  {'calories': 37, 'fat': 0.0, 'sugar': 8.5, 'ca...  \n44  {'calories': 73, 'fat': 0.58, 'sugar': 16.11, ...  ",
      "text/html": "<div>\n<style scoped>\n    .dataframe tbody tr th:only-of-type {\n        vertical-align: middle;\n    }\n\n    .dataframe tbody tr th {\n        vertical-align: top;\n    }\n\n    .dataframe thead th {\n        text-align: right;\n    }\n</style>\n<table border=\"1\" class=\"dataframe\">\n  <thead>\n    <tr style=\"text-align: right;\">\n      <th></th>\n      <th>name</th>\n      <th>id</th>\n      <th>family</th>\n      <th>order</th>\n      <th>genus</th>\n      <th>nutritions</th>\n    </tr>\n  </thead>\n  <tbody>\n    <tr>\n      <th>0</th>\n      <td>Persimmon</td>\n      <td>52</td>\n      <td>Ebenaceae</td>\n      <td>Rosales</td>\n      <td>Diospyros</td>\n      <td>{'calories': 81, 'fat': 0.0, 'sugar': 18.0, 'c...</td>\n    </tr>\n    <tr>\n      <th>1</th>\n      <td>Strawberry</td>\n      <td>3</td>\n      <td>Rosaceae</td>\n      <td>Rosales</td>\n      <td>Fragaria</td>\n      <td>{'calories': 29, 'fat': 0.4, 'sugar': 5.4, 'ca...</td>\n    </tr>\n    <tr>\n      <th>2</th>\n      <td>Banana</td>\n      <td>1</td>\n      <td>Musaceae</td>\n      <td>Zingiberales</td>\n      <td>Musa</td>\n      <td>{'calories': 96, 'fat': 0.2, 'sugar': 17.2, 'c...</td>\n    </tr>\n    <tr>\n      <th>3</th>\n      <td>Tomato</td>\n      <td>5</td>\n      <td>Solanaceae</td>\n      <td>Solanales</td>\n      <td>Solanum</td>\n      <td>{'calories': 74, 'fat': 0.2, 'sugar': 2.6, 'ca...</td>\n    </tr>\n    <tr>\n      <th>4</th>\n      <td>Pear</td>\n      <td>4</td>\n      <td>Rosaceae</td>\n      <td>Rosales</td>\n      <td>Pyrus</td>\n      <td>{'calories': 57, 'fat': 0.1, 'sugar': 10.0, 'c...</td>\n    </tr>\n    <tr>\n      <th>5</th>\n      <td>Durian</td>\n      <td>60</td>\n      <td>Malvaceae</td>\n      <td>Malvales</td>\n      <td>Durio</td>\n      <td>{'calories': 147, 'fat': 5.3, 'sugar': 6.75, '...</td>\n    </tr>\n    <tr>\n      <th>6</th>\n      <td>Blackberry</td>\n      <td>64</td>\n      <td>Rosaceae</td>\n      <td>Rosales</td>\n      <td>Rubus</td>\n      <td>{'calories': 40, 'fat': 0.4, 'sugar': 4.5, 'ca...</td>\n    </tr>\n    <tr>\n      <th>7</th>\n      <td>Lingonberry</td>\n      <td>65</td>\n      <td>Ericaceae</td>\n      <td>Ericales</td>\n      <td>Vaccinium</td>\n      <td>{'calories': 50, 'fat': 0.34, 'sugar': 5.74, '...</td>\n    </tr>\n    <tr>\n      <th>8</th>\n      <td>Kiwi</td>\n      <td>66</td>\n      <td>Actinidiaceae</td>\n      <td>Struthioniformes</td>\n      <td>Apteryx</td>\n      <td>{'calories': 61, 'fat': 0.5, 'sugar': 9.0, 'ca...</td>\n    </tr>\n    <tr>\n      <th>9</th>\n      <td>Lychee</td>\n      <td>67</td>\n      <td>Sapindaceae</td>\n      <td>Sapindales</td>\n      <td>Litchi</td>\n      <td>{'calories': 66, 'fat': 0.44, 'sugar': 15.0, '...</td>\n    </tr>\n    <tr>\n      <th>10</th>\n      <td>Pineapple</td>\n      <td>10</td>\n      <td>Bromeliaceae</td>\n      <td>Poales</td>\n      <td>Ananas</td>\n      <td>{'calories': 50, 'fat': 0.12, 'sugar': 9.85, '...</td>\n    </tr>\n    <tr>\n      <th>11</th>\n      <td>Fig</td>\n      <td>68</td>\n      <td>Moraceae</td>\n      <td>Rosales</td>\n      <td>Ficus</td>\n      <td>{'calories': 74, 'fat': 0.3, 'sugar': 16.0, 'c...</td>\n    </tr>\n    <tr>\n      <th>12</th>\n      <td>Gooseberry</td>\n      <td>69</td>\n      <td>Grossulariaceae</td>\n      <td>Saxifragales</td>\n      <td>Ribes</td>\n      <td>{'calories': 44, 'fat': 0.6, 'sugar': 0.0, 'ca...</td>\n    </tr>\n    <tr>\n      <th>13</th>\n      <td>Passionfruit</td>\n      <td>70</td>\n      <td>Passifloraceae</td>\n      <td>Malpighiales</td>\n      <td>Passiflora</td>\n      <td>{'calories': 97, 'fat': 0.7, 'sugar': 11.2, 'c...</td>\n    </tr>\n    <tr>\n      <th>14</th>\n      <td>Plum</td>\n      <td>71</td>\n      <td>Rosaceae</td>\n      <td>Rosales</td>\n      <td>Prunus</td>\n      <td>{'calories': 46, 'fat': 0.28, 'sugar': 9.92, '...</td>\n    </tr>\n    <tr>\n      <th>15</th>\n      <td>Orange</td>\n      <td>2</td>\n      <td>Rutaceae</td>\n      <td>Sapindales</td>\n      <td>Citrus</td>\n      <td>{'calories': 43, 'fat': 0.2, 'sugar': 8.2, 'ca...</td>\n    </tr>\n    <tr>\n      <th>16</th>\n      <td>GreenApple</td>\n      <td>72</td>\n      <td>Rosaceae</td>\n      <td>Rosales</td>\n      <td>Malus</td>\n      <td>{'calories': 21, 'fat': 0.1, 'sugar': 6.4, 'ca...</td>\n    </tr>\n    <tr>\n      <th>17</th>\n      <td>Raspberry</td>\n      <td>23</td>\n      <td>Rosaceae</td>\n      <td>Rosales</td>\n      <td>Rubus</td>\n      <td>{'calories': 53, 'fat': 0.7, 'sugar': 4.4, 'ca...</td>\n    </tr>\n    <tr>\n      <th>18</th>\n      <td>Watermelon</td>\n      <td>25</td>\n      <td>Cucurbitaceae</td>\n      <td>Cucurbitales</td>\n      <td>Citrullus</td>\n      <td>{'calories': 30, 'fat': 0.2, 'sugar': 6.0, 'ca...</td>\n    </tr>\n    <tr>\n      <th>19</th>\n      <td>Lemon</td>\n      <td>26</td>\n      <td>Rutaceae</td>\n      <td>Sapindales</td>\n      <td>Citrus</td>\n      <td>{'calories': 29, 'fat': 0.3, 'sugar': 2.5, 'ca...</td>\n    </tr>\n    <tr>\n      <th>20</th>\n      <td>Mango</td>\n      <td>27</td>\n      <td>Anacardiaceae</td>\n      <td>Sapindales</td>\n      <td>Mangifera</td>\n      <td>{'calories': 60, 'fat': 0.38, 'sugar': 13.7, '...</td>\n    </tr>\n    <tr>\n      <th>21</th>\n      <td>Blueberry</td>\n      <td>33</td>\n      <td>Rosaceae</td>\n      <td>Rosales</td>\n      <td>Fragaria</td>\n      <td>{'calories': 29, 'fat': 0.4, 'sugar': 5.4, 'ca...</td>\n    </tr>\n    <tr>\n      <th>22</th>\n      <td>Apple</td>\n      <td>6</td>\n      <td>Rosaceae</td>\n      <td>Rosales</td>\n      <td>Malus</td>\n      <td>{'calories': 52, 'fat': 0.4, 'sugar': 10.3, 'c...</td>\n    </tr>\n    <tr>\n      <th>23</th>\n      <td>Guava</td>\n      <td>37</td>\n      <td>Myrtaceae</td>\n      <td>Myrtales</td>\n      <td>Psidium</td>\n      <td>{'calories': 68, 'fat': 1.0, 'sugar': 9.0, 'ca...</td>\n    </tr>\n    <tr>\n      <th>24</th>\n      <td>Apricot</td>\n      <td>35</td>\n      <td>Rosaceae</td>\n      <td>Rosales</td>\n      <td>Prunus</td>\n      <td>{'calories': 15, 'fat': 0.1, 'sugar': 3.2, 'ca...</td>\n    </tr>\n    <tr>\n      <th>25</th>\n      <td>Papaya</td>\n      <td>42</td>\n      <td>Caricaceae</td>\n      <td>Caricacea</td>\n      <td>Carica</td>\n      <td>{'calories': 43, 'fat': 0.4, 'sugar': 1.0, 'ca...</td>\n    </tr>\n    <tr>\n      <th>26</th>\n      <td>Melon</td>\n      <td>41</td>\n      <td>Cucurbitaceae</td>\n      <td>Cucurbitaceae</td>\n      <td>Cucumis</td>\n      <td>{'calories': 34, 'fat': 0.0, 'sugar': 8.0, 'ca...</td>\n    </tr>\n    <tr>\n      <th>27</th>\n      <td>Tangerine</td>\n      <td>77</td>\n      <td>Rutaceae</td>\n      <td>Sapindales</td>\n      <td>Citrus</td>\n      <td>{'calories': 45, 'fat': 0.4, 'sugar': 9.1, 'ca...</td>\n    </tr>\n    <tr>\n      <th>28</th>\n      <td>Pitahaya</td>\n      <td>78</td>\n      <td>Cactaceae</td>\n      <td>Caryophyllales</td>\n      <td>Cactaceae</td>\n      <td>{'calories': 36, 'fat': 0.4, 'sugar': 3.0, 'ca...</td>\n    </tr>\n    <tr>\n      <th>29</th>\n      <td>Lime</td>\n      <td>44</td>\n      <td>Rutaceae</td>\n      <td>Sapindales</td>\n      <td>Citrus</td>\n      <td>{'calories': 25, 'fat': 0.1, 'sugar': 1.7, 'ca...</td>\n    </tr>\n    <tr>\n      <th>30</th>\n      <td>Pomegranate</td>\n      <td>79</td>\n      <td>Lythraceae</td>\n      <td>Myrtales</td>\n      <td>Punica</td>\n      <td>{'calories': 83, 'fat': 1.2, 'sugar': 13.7, 'c...</td>\n    </tr>\n    <tr>\n      <th>31</th>\n      <td>Dragonfruit</td>\n      <td>80</td>\n      <td>Cactaceae</td>\n      <td>Caryophyllales</td>\n      <td>Selenicereus</td>\n      <td>{'calories': 60, 'fat': 1.5, 'sugar': 8.0, 'ca...</td>\n    </tr>\n    <tr>\n      <th>32</th>\n      <td>Grape</td>\n      <td>81</td>\n      <td>Vitaceae</td>\n      <td>Vitales</td>\n      <td>Vitis</td>\n      <td>{'calories': 69, 'fat': 0.16, 'sugar': 16.0, '...</td>\n    </tr>\n    <tr>\n      <th>33</th>\n      <td>Morus</td>\n      <td>82</td>\n      <td>Moraceae</td>\n      <td>Rosales</td>\n      <td>Morus</td>\n      <td>{'calories': 43, 'fat': 0.39, 'sugar': 8.1, 'c...</td>\n    </tr>\n    <tr>\n      <th>34</th>\n      <td>Feijoa</td>\n      <td>76</td>\n      <td>Myrtaceae</td>\n      <td>Myrtoideae</td>\n      <td>Sellowiana</td>\n      <td>{'calories': 44, 'fat': 0.4, 'sugar': 3.0, 'ca...</td>\n    </tr>\n    <tr>\n      <th>35</th>\n      <td>Avocado</td>\n      <td>84</td>\n      <td>Lauraceae</td>\n      <td>Laurales</td>\n      <td>Persea</td>\n      <td>{'calories': 160, 'fat': 14.66, 'sugar': 0.66,...</td>\n    </tr>\n    <tr>\n      <th>36</th>\n      <td>Kiwifruit</td>\n      <td>85</td>\n      <td>Actinidiaceae</td>\n      <td>Ericales</td>\n      <td>Actinidia</td>\n      <td>{'calories': 61, 'fat': 0.5, 'sugar': 8.9, 'ca...</td>\n    </tr>\n    <tr>\n      <th>37</th>\n      <td>Cranberry</td>\n      <td>87</td>\n      <td>Ericaceae</td>\n      <td>Ericales</td>\n      <td>Vaccinium</td>\n      <td>{'calories': 46, 'fat': 0.1, 'sugar': 4.0, 'ca...</td>\n    </tr>\n    <tr>\n      <th>38</th>\n      <td>Cherry</td>\n      <td>9</td>\n      <td>Rosaceae</td>\n      <td>Rosales</td>\n      <td>Prunus</td>\n      <td>{'calories': 50, 'fat': 0.3, 'sugar': 8.0, 'ca...</td>\n    </tr>\n    <tr>\n      <th>39</th>\n      <td>Peach</td>\n      <td>86</td>\n      <td>Rosaceae</td>\n      <td>Rosales</td>\n      <td>Prunus</td>\n      <td>{'calories': 39, 'fat': 0.25, 'sugar': 8.4, 'c...</td>\n    </tr>\n    <tr>\n      <th>40</th>\n      <td>Jackfruit</td>\n      <td>94</td>\n      <td>Moraceae</td>\n      <td>Rosales</td>\n      <td>Artocarpus</td>\n      <td>{'calories': 95, 'fat': 0.0, 'sugar': 19.1, 'c...</td>\n    </tr>\n    <tr>\n      <th>41</th>\n      <td>Horned Melon</td>\n      <td>95</td>\n      <td>Cucurbitaceae</td>\n      <td>Cucurbitales</td>\n      <td>Cucumis</td>\n      <td>{'calories': 44, 'fat': 1.26, 'sugar': 0.5, 'c...</td>\n    </tr>\n    <tr>\n      <th>42</th>\n      <td>Hazelnut</td>\n      <td>96</td>\n      <td>Betulaceae</td>\n      <td>Fagales</td>\n      <td>Corylus</td>\n      <td>{'calories': 628, 'fat': 61.0, 'sugar': 4.3, '...</td>\n    </tr>\n    <tr>\n      <th>43</th>\n      <td>Pomelo</td>\n      <td>98</td>\n      <td>Rutaceae</td>\n      <td>Sapindales</td>\n      <td>Citrus</td>\n      <td>{'calories': 37, 'fat': 0.0, 'sugar': 8.5, 'ca...</td>\n    </tr>\n    <tr>\n      <th>44</th>\n      <td>Mangosteen</td>\n      <td>99</td>\n      <td>Clusiaceae</td>\n      <td>Malpighiales</td>\n      <td>Garcinia</td>\n      <td>{'calories': 73, 'fat': 0.58, 'sugar': 16.11, ...</td>\n    </tr>\n  </tbody>\n</table>\n</div>"
     },
     "execution_count": 16,
     "metadata": {},
     "output_type": "execute_result"
    }
   ],
   "source": [
    "pd.DataFrame(results)"
   ],
   "execution_count": 16
  },
  {
   "cell_type": "markdown",
   "metadata": {},
   "source": [
    "The result is in a nested json format. The 'nutrition' column contains multiple subcolumns, so the data needs to be 'flattened' or normalized.\n"
   ]
  },
  {
   "cell_type": "code",
   "metadata": {
    "ExecuteTime": {
     "end_time": "2023-11-16T17:19:00.934033400Z",
     "start_time": "2023-11-16T17:19:00.928236800Z"
    }
   },
   "outputs": [],
   "source": [
    "df2 = pd.json_normalize(results)"
   ],
   "execution_count": 17
  },
  {
   "cell_type": "code",
   "metadata": {
    "ExecuteTime": {
     "end_time": "2023-11-16T17:19:03.006403300Z",
     "start_time": "2023-11-16T17:19:02.972553500Z"
    }
   },
   "outputs": [
    {
     "data": {
      "text/plain": "            name  id           family             order         genus  \\\n0      Persimmon  52        Ebenaceae           Rosales     Diospyros   \n1     Strawberry   3         Rosaceae           Rosales      Fragaria   \n2         Banana   1         Musaceae      Zingiberales          Musa   \n3         Tomato   5       Solanaceae         Solanales       Solanum   \n4           Pear   4         Rosaceae           Rosales         Pyrus   \n5         Durian  60        Malvaceae          Malvales         Durio   \n6     Blackberry  64         Rosaceae           Rosales         Rubus   \n7    Lingonberry  65        Ericaceae          Ericales     Vaccinium   \n8           Kiwi  66    Actinidiaceae  Struthioniformes       Apteryx   \n9         Lychee  67      Sapindaceae        Sapindales        Litchi   \n10     Pineapple  10     Bromeliaceae            Poales        Ananas   \n11           Fig  68         Moraceae           Rosales         Ficus   \n12    Gooseberry  69  Grossulariaceae      Saxifragales         Ribes   \n13  Passionfruit  70   Passifloraceae      Malpighiales    Passiflora   \n14          Plum  71         Rosaceae           Rosales        Prunus   \n15        Orange   2         Rutaceae        Sapindales        Citrus   \n16    GreenApple  72         Rosaceae           Rosales         Malus   \n17     Raspberry  23         Rosaceae           Rosales         Rubus   \n18    Watermelon  25    Cucurbitaceae      Cucurbitales     Citrullus   \n19         Lemon  26         Rutaceae        Sapindales        Citrus   \n20         Mango  27    Anacardiaceae        Sapindales     Mangifera   \n21     Blueberry  33         Rosaceae           Rosales      Fragaria   \n22         Apple   6         Rosaceae           Rosales         Malus   \n23         Guava  37        Myrtaceae          Myrtales       Psidium   \n24       Apricot  35         Rosaceae           Rosales        Prunus   \n25        Papaya  42       Caricaceae         Caricacea        Carica   \n26         Melon  41    Cucurbitaceae     Cucurbitaceae       Cucumis   \n27     Tangerine  77         Rutaceae        Sapindales        Citrus   \n28      Pitahaya  78        Cactaceae    Caryophyllales     Cactaceae   \n29          Lime  44         Rutaceae        Sapindales        Citrus   \n30   Pomegranate  79       Lythraceae          Myrtales        Punica   \n31   Dragonfruit  80        Cactaceae    Caryophyllales  Selenicereus   \n32         Grape  81         Vitaceae           Vitales         Vitis   \n33         Morus  82         Moraceae           Rosales         Morus   \n34        Feijoa  76        Myrtaceae        Myrtoideae    Sellowiana   \n35       Avocado  84        Lauraceae          Laurales        Persea   \n36     Kiwifruit  85    Actinidiaceae          Ericales     Actinidia   \n37     Cranberry  87        Ericaceae          Ericales     Vaccinium   \n38        Cherry   9         Rosaceae           Rosales        Prunus   \n39         Peach  86         Rosaceae           Rosales        Prunus   \n40     Jackfruit  94         Moraceae           Rosales    Artocarpus   \n41  Horned Melon  95    Cucurbitaceae      Cucurbitales       Cucumis   \n42      Hazelnut  96       Betulaceae           Fagales       Corylus   \n43        Pomelo  98         Rutaceae        Sapindales        Citrus   \n44    Mangosteen  99       Clusiaceae      Malpighiales      Garcinia   \n\n    nutritions.calories  nutritions.fat  nutritions.sugar  \\\n0                    81            0.00             18.00   \n1                    29            0.40              5.40   \n2                    96            0.20             17.20   \n3                    74            0.20              2.60   \n4                    57            0.10             10.00   \n5                   147            5.30              6.75   \n6                    40            0.40              4.50   \n7                    50            0.34              5.74   \n8                    61            0.50              9.00   \n9                    66            0.44             15.00   \n10                   50            0.12              9.85   \n11                   74            0.30             16.00   \n12                   44            0.60              0.00   \n13                   97            0.70             11.20   \n14                   46            0.28              9.92   \n15                   43            0.20              8.20   \n16                   21            0.10              6.40   \n17                   53            0.70              4.40   \n18                   30            0.20              6.00   \n19                   29            0.30              2.50   \n20                   60            0.38             13.70   \n21                   29            0.40              5.40   \n22                   52            0.40             10.30   \n23                   68            1.00              9.00   \n24                   15            0.10              3.20   \n25                   43            0.40              1.00   \n26                   34            0.00              8.00   \n27                   45            0.40              9.10   \n28                   36            0.40              3.00   \n29                   25            0.10              1.70   \n30                   83            1.20             13.70   \n31                   60            1.50              8.00   \n32                   69            0.16             16.00   \n33                   43            0.39              8.10   \n34                   44            0.40              3.00   \n35                  160           14.66              0.66   \n36                   61            0.50              8.90   \n37                   46            0.10              4.00   \n38                   50            0.30              8.00   \n39                   39            0.25              8.40   \n40                   95            0.00             19.10   \n41                   44            1.26              0.50   \n42                  628           61.00              4.30   \n43                   37            0.00              8.50   \n44                   73            0.58             16.11   \n\n    nutritions.carbohydrates  nutritions.protein  \n0                      18.00                0.00  \n1                       5.50                0.80  \n2                      22.00                1.00  \n3                       3.90                0.90  \n4                      15.00                0.40  \n5                      27.10                1.50  \n6                       9.00                1.30  \n7                      11.30                0.75  \n8                      15.00                1.10  \n9                      17.00                0.80  \n10                     13.12                0.54  \n11                     19.00                0.80  \n12                     10.00                0.90  \n13                     22.40                2.20  \n14                     11.40                0.70  \n15                      8.30                1.00  \n16                      3.10                0.40  \n17                     12.00                1.20  \n18                      8.00                0.60  \n19                      9.00                1.10  \n20                     15.00                0.82  \n21                      5.50                0.00  \n22                     11.40                0.30  \n23                     14.00                2.60  \n24                      3.90                0.50  \n25                     11.00                0.00  \n26                      8.00                0.00  \n27                      8.30                0.00  \n28                      7.00                1.00  \n29                      8.40                0.30  \n30                     18.70                1.70  \n31                      9.00                9.00  \n32                     18.10                0.72  \n33                      9.80                1.44  \n34                      8.00                0.60  \n35                      8.53                2.00  \n36                     14.60                1.14  \n37                     12.20                0.40  \n38                     12.00                1.00  \n39                      9.50                0.90  \n40                     23.20                1.72  \n41                      7.56                1.78  \n42                     17.00               15.00  \n43                      9.67                0.82  \n44                     17.91                0.41  ",
      "text/html": "<div>\n<style scoped>\n    .dataframe tbody tr th:only-of-type {\n        vertical-align: middle;\n    }\n\n    .dataframe tbody tr th {\n        vertical-align: top;\n    }\n\n    .dataframe thead th {\n        text-align: right;\n    }\n</style>\n<table border=\"1\" class=\"dataframe\">\n  <thead>\n    <tr style=\"text-align: right;\">\n      <th></th>\n      <th>name</th>\n      <th>id</th>\n      <th>family</th>\n      <th>order</th>\n      <th>genus</th>\n      <th>nutritions.calories</th>\n      <th>nutritions.fat</th>\n      <th>nutritions.sugar</th>\n      <th>nutritions.carbohydrates</th>\n      <th>nutritions.protein</th>\n    </tr>\n  </thead>\n  <tbody>\n    <tr>\n      <th>0</th>\n      <td>Persimmon</td>\n      <td>52</td>\n      <td>Ebenaceae</td>\n      <td>Rosales</td>\n      <td>Diospyros</td>\n      <td>81</td>\n      <td>0.00</td>\n      <td>18.00</td>\n      <td>18.00</td>\n      <td>0.00</td>\n    </tr>\n    <tr>\n      <th>1</th>\n      <td>Strawberry</td>\n      <td>3</td>\n      <td>Rosaceae</td>\n      <td>Rosales</td>\n      <td>Fragaria</td>\n      <td>29</td>\n      <td>0.40</td>\n      <td>5.40</td>\n      <td>5.50</td>\n      <td>0.80</td>\n    </tr>\n    <tr>\n      <th>2</th>\n      <td>Banana</td>\n      <td>1</td>\n      <td>Musaceae</td>\n      <td>Zingiberales</td>\n      <td>Musa</td>\n      <td>96</td>\n      <td>0.20</td>\n      <td>17.20</td>\n      <td>22.00</td>\n      <td>1.00</td>\n    </tr>\n    <tr>\n      <th>3</th>\n      <td>Tomato</td>\n      <td>5</td>\n      <td>Solanaceae</td>\n      <td>Solanales</td>\n      <td>Solanum</td>\n      <td>74</td>\n      <td>0.20</td>\n      <td>2.60</td>\n      <td>3.90</td>\n      <td>0.90</td>\n    </tr>\n    <tr>\n      <th>4</th>\n      <td>Pear</td>\n      <td>4</td>\n      <td>Rosaceae</td>\n      <td>Rosales</td>\n      <td>Pyrus</td>\n      <td>57</td>\n      <td>0.10</td>\n      <td>10.00</td>\n      <td>15.00</td>\n      <td>0.40</td>\n    </tr>\n    <tr>\n      <th>5</th>\n      <td>Durian</td>\n      <td>60</td>\n      <td>Malvaceae</td>\n      <td>Malvales</td>\n      <td>Durio</td>\n      <td>147</td>\n      <td>5.30</td>\n      <td>6.75</td>\n      <td>27.10</td>\n      <td>1.50</td>\n    </tr>\n    <tr>\n      <th>6</th>\n      <td>Blackberry</td>\n      <td>64</td>\n      <td>Rosaceae</td>\n      <td>Rosales</td>\n      <td>Rubus</td>\n      <td>40</td>\n      <td>0.40</td>\n      <td>4.50</td>\n      <td>9.00</td>\n      <td>1.30</td>\n    </tr>\n    <tr>\n      <th>7</th>\n      <td>Lingonberry</td>\n      <td>65</td>\n      <td>Ericaceae</td>\n      <td>Ericales</td>\n      <td>Vaccinium</td>\n      <td>50</td>\n      <td>0.34</td>\n      <td>5.74</td>\n      <td>11.30</td>\n      <td>0.75</td>\n    </tr>\n    <tr>\n      <th>8</th>\n      <td>Kiwi</td>\n      <td>66</td>\n      <td>Actinidiaceae</td>\n      <td>Struthioniformes</td>\n      <td>Apteryx</td>\n      <td>61</td>\n      <td>0.50</td>\n      <td>9.00</td>\n      <td>15.00</td>\n      <td>1.10</td>\n    </tr>\n    <tr>\n      <th>9</th>\n      <td>Lychee</td>\n      <td>67</td>\n      <td>Sapindaceae</td>\n      <td>Sapindales</td>\n      <td>Litchi</td>\n      <td>66</td>\n      <td>0.44</td>\n      <td>15.00</td>\n      <td>17.00</td>\n      <td>0.80</td>\n    </tr>\n    <tr>\n      <th>10</th>\n      <td>Pineapple</td>\n      <td>10</td>\n      <td>Bromeliaceae</td>\n      <td>Poales</td>\n      <td>Ananas</td>\n      <td>50</td>\n      <td>0.12</td>\n      <td>9.85</td>\n      <td>13.12</td>\n      <td>0.54</td>\n    </tr>\n    <tr>\n      <th>11</th>\n      <td>Fig</td>\n      <td>68</td>\n      <td>Moraceae</td>\n      <td>Rosales</td>\n      <td>Ficus</td>\n      <td>74</td>\n      <td>0.30</td>\n      <td>16.00</td>\n      <td>19.00</td>\n      <td>0.80</td>\n    </tr>\n    <tr>\n      <th>12</th>\n      <td>Gooseberry</td>\n      <td>69</td>\n      <td>Grossulariaceae</td>\n      <td>Saxifragales</td>\n      <td>Ribes</td>\n      <td>44</td>\n      <td>0.60</td>\n      <td>0.00</td>\n      <td>10.00</td>\n      <td>0.90</td>\n    </tr>\n    <tr>\n      <th>13</th>\n      <td>Passionfruit</td>\n      <td>70</td>\n      <td>Passifloraceae</td>\n      <td>Malpighiales</td>\n      <td>Passiflora</td>\n      <td>97</td>\n      <td>0.70</td>\n      <td>11.20</td>\n      <td>22.40</td>\n      <td>2.20</td>\n    </tr>\n    <tr>\n      <th>14</th>\n      <td>Plum</td>\n      <td>71</td>\n      <td>Rosaceae</td>\n      <td>Rosales</td>\n      <td>Prunus</td>\n      <td>46</td>\n      <td>0.28</td>\n      <td>9.92</td>\n      <td>11.40</td>\n      <td>0.70</td>\n    </tr>\n    <tr>\n      <th>15</th>\n      <td>Orange</td>\n      <td>2</td>\n      <td>Rutaceae</td>\n      <td>Sapindales</td>\n      <td>Citrus</td>\n      <td>43</td>\n      <td>0.20</td>\n      <td>8.20</td>\n      <td>8.30</td>\n      <td>1.00</td>\n    </tr>\n    <tr>\n      <th>16</th>\n      <td>GreenApple</td>\n      <td>72</td>\n      <td>Rosaceae</td>\n      <td>Rosales</td>\n      <td>Malus</td>\n      <td>21</td>\n      <td>0.10</td>\n      <td>6.40</td>\n      <td>3.10</td>\n      <td>0.40</td>\n    </tr>\n    <tr>\n      <th>17</th>\n      <td>Raspberry</td>\n      <td>23</td>\n      <td>Rosaceae</td>\n      <td>Rosales</td>\n      <td>Rubus</td>\n      <td>53</td>\n      <td>0.70</td>\n      <td>4.40</td>\n      <td>12.00</td>\n      <td>1.20</td>\n    </tr>\n    <tr>\n      <th>18</th>\n      <td>Watermelon</td>\n      <td>25</td>\n      <td>Cucurbitaceae</td>\n      <td>Cucurbitales</td>\n      <td>Citrullus</td>\n      <td>30</td>\n      <td>0.20</td>\n      <td>6.00</td>\n      <td>8.00</td>\n      <td>0.60</td>\n    </tr>\n    <tr>\n      <th>19</th>\n      <td>Lemon</td>\n      <td>26</td>\n      <td>Rutaceae</td>\n      <td>Sapindales</td>\n      <td>Citrus</td>\n      <td>29</td>\n      <td>0.30</td>\n      <td>2.50</td>\n      <td>9.00</td>\n      <td>1.10</td>\n    </tr>\n    <tr>\n      <th>20</th>\n      <td>Mango</td>\n      <td>27</td>\n      <td>Anacardiaceae</td>\n      <td>Sapindales</td>\n      <td>Mangifera</td>\n      <td>60</td>\n      <td>0.38</td>\n      <td>13.70</td>\n      <td>15.00</td>\n      <td>0.82</td>\n    </tr>\n    <tr>\n      <th>21</th>\n      <td>Blueberry</td>\n      <td>33</td>\n      <td>Rosaceae</td>\n      <td>Rosales</td>\n      <td>Fragaria</td>\n      <td>29</td>\n      <td>0.40</td>\n      <td>5.40</td>\n      <td>5.50</td>\n      <td>0.00</td>\n    </tr>\n    <tr>\n      <th>22</th>\n      <td>Apple</td>\n      <td>6</td>\n      <td>Rosaceae</td>\n      <td>Rosales</td>\n      <td>Malus</td>\n      <td>52</td>\n      <td>0.40</td>\n      <td>10.30</td>\n      <td>11.40</td>\n      <td>0.30</td>\n    </tr>\n    <tr>\n      <th>23</th>\n      <td>Guava</td>\n      <td>37</td>\n      <td>Myrtaceae</td>\n      <td>Myrtales</td>\n      <td>Psidium</td>\n      <td>68</td>\n      <td>1.00</td>\n      <td>9.00</td>\n      <td>14.00</td>\n      <td>2.60</td>\n    </tr>\n    <tr>\n      <th>24</th>\n      <td>Apricot</td>\n      <td>35</td>\n      <td>Rosaceae</td>\n      <td>Rosales</td>\n      <td>Prunus</td>\n      <td>15</td>\n      <td>0.10</td>\n      <td>3.20</td>\n      <td>3.90</td>\n      <td>0.50</td>\n    </tr>\n    <tr>\n      <th>25</th>\n      <td>Papaya</td>\n      <td>42</td>\n      <td>Caricaceae</td>\n      <td>Caricacea</td>\n      <td>Carica</td>\n      <td>43</td>\n      <td>0.40</td>\n      <td>1.00</td>\n      <td>11.00</td>\n      <td>0.00</td>\n    </tr>\n    <tr>\n      <th>26</th>\n      <td>Melon</td>\n      <td>41</td>\n      <td>Cucurbitaceae</td>\n      <td>Cucurbitaceae</td>\n      <td>Cucumis</td>\n      <td>34</td>\n      <td>0.00</td>\n      <td>8.00</td>\n      <td>8.00</td>\n      <td>0.00</td>\n    </tr>\n    <tr>\n      <th>27</th>\n      <td>Tangerine</td>\n      <td>77</td>\n      <td>Rutaceae</td>\n      <td>Sapindales</td>\n      <td>Citrus</td>\n      <td>45</td>\n      <td>0.40</td>\n      <td>9.10</td>\n      <td>8.30</td>\n      <td>0.00</td>\n    </tr>\n    <tr>\n      <th>28</th>\n      <td>Pitahaya</td>\n      <td>78</td>\n      <td>Cactaceae</td>\n      <td>Caryophyllales</td>\n      <td>Cactaceae</td>\n      <td>36</td>\n      <td>0.40</td>\n      <td>3.00</td>\n      <td>7.00</td>\n      <td>1.00</td>\n    </tr>\n    <tr>\n      <th>29</th>\n      <td>Lime</td>\n      <td>44</td>\n      <td>Rutaceae</td>\n      <td>Sapindales</td>\n      <td>Citrus</td>\n      <td>25</td>\n      <td>0.10</td>\n      <td>1.70</td>\n      <td>8.40</td>\n      <td>0.30</td>\n    </tr>\n    <tr>\n      <th>30</th>\n      <td>Pomegranate</td>\n      <td>79</td>\n      <td>Lythraceae</td>\n      <td>Myrtales</td>\n      <td>Punica</td>\n      <td>83</td>\n      <td>1.20</td>\n      <td>13.70</td>\n      <td>18.70</td>\n      <td>1.70</td>\n    </tr>\n    <tr>\n      <th>31</th>\n      <td>Dragonfruit</td>\n      <td>80</td>\n      <td>Cactaceae</td>\n      <td>Caryophyllales</td>\n      <td>Selenicereus</td>\n      <td>60</td>\n      <td>1.50</td>\n      <td>8.00</td>\n      <td>9.00</td>\n      <td>9.00</td>\n    </tr>\n    <tr>\n      <th>32</th>\n      <td>Grape</td>\n      <td>81</td>\n      <td>Vitaceae</td>\n      <td>Vitales</td>\n      <td>Vitis</td>\n      <td>69</td>\n      <td>0.16</td>\n      <td>16.00</td>\n      <td>18.10</td>\n      <td>0.72</td>\n    </tr>\n    <tr>\n      <th>33</th>\n      <td>Morus</td>\n      <td>82</td>\n      <td>Moraceae</td>\n      <td>Rosales</td>\n      <td>Morus</td>\n      <td>43</td>\n      <td>0.39</td>\n      <td>8.10</td>\n      <td>9.80</td>\n      <td>1.44</td>\n    </tr>\n    <tr>\n      <th>34</th>\n      <td>Feijoa</td>\n      <td>76</td>\n      <td>Myrtaceae</td>\n      <td>Myrtoideae</td>\n      <td>Sellowiana</td>\n      <td>44</td>\n      <td>0.40</td>\n      <td>3.00</td>\n      <td>8.00</td>\n      <td>0.60</td>\n    </tr>\n    <tr>\n      <th>35</th>\n      <td>Avocado</td>\n      <td>84</td>\n      <td>Lauraceae</td>\n      <td>Laurales</td>\n      <td>Persea</td>\n      <td>160</td>\n      <td>14.66</td>\n      <td>0.66</td>\n      <td>8.53</td>\n      <td>2.00</td>\n    </tr>\n    <tr>\n      <th>36</th>\n      <td>Kiwifruit</td>\n      <td>85</td>\n      <td>Actinidiaceae</td>\n      <td>Ericales</td>\n      <td>Actinidia</td>\n      <td>61</td>\n      <td>0.50</td>\n      <td>8.90</td>\n      <td>14.60</td>\n      <td>1.14</td>\n    </tr>\n    <tr>\n      <th>37</th>\n      <td>Cranberry</td>\n      <td>87</td>\n      <td>Ericaceae</td>\n      <td>Ericales</td>\n      <td>Vaccinium</td>\n      <td>46</td>\n      <td>0.10</td>\n      <td>4.00</td>\n      <td>12.20</td>\n      <td>0.40</td>\n    </tr>\n    <tr>\n      <th>38</th>\n      <td>Cherry</td>\n      <td>9</td>\n      <td>Rosaceae</td>\n      <td>Rosales</td>\n      <td>Prunus</td>\n      <td>50</td>\n      <td>0.30</td>\n      <td>8.00</td>\n      <td>12.00</td>\n      <td>1.00</td>\n    </tr>\n    <tr>\n      <th>39</th>\n      <td>Peach</td>\n      <td>86</td>\n      <td>Rosaceae</td>\n      <td>Rosales</td>\n      <td>Prunus</td>\n      <td>39</td>\n      <td>0.25</td>\n      <td>8.40</td>\n      <td>9.50</td>\n      <td>0.90</td>\n    </tr>\n    <tr>\n      <th>40</th>\n      <td>Jackfruit</td>\n      <td>94</td>\n      <td>Moraceae</td>\n      <td>Rosales</td>\n      <td>Artocarpus</td>\n      <td>95</td>\n      <td>0.00</td>\n      <td>19.10</td>\n      <td>23.20</td>\n      <td>1.72</td>\n    </tr>\n    <tr>\n      <th>41</th>\n      <td>Horned Melon</td>\n      <td>95</td>\n      <td>Cucurbitaceae</td>\n      <td>Cucurbitales</td>\n      <td>Cucumis</td>\n      <td>44</td>\n      <td>1.26</td>\n      <td>0.50</td>\n      <td>7.56</td>\n      <td>1.78</td>\n    </tr>\n    <tr>\n      <th>42</th>\n      <td>Hazelnut</td>\n      <td>96</td>\n      <td>Betulaceae</td>\n      <td>Fagales</td>\n      <td>Corylus</td>\n      <td>628</td>\n      <td>61.00</td>\n      <td>4.30</td>\n      <td>17.00</td>\n      <td>15.00</td>\n    </tr>\n    <tr>\n      <th>43</th>\n      <td>Pomelo</td>\n      <td>98</td>\n      <td>Rutaceae</td>\n      <td>Sapindales</td>\n      <td>Citrus</td>\n      <td>37</td>\n      <td>0.00</td>\n      <td>8.50</td>\n      <td>9.67</td>\n      <td>0.82</td>\n    </tr>\n    <tr>\n      <th>44</th>\n      <td>Mangosteen</td>\n      <td>99</td>\n      <td>Clusiaceae</td>\n      <td>Malpighiales</td>\n      <td>Garcinia</td>\n      <td>73</td>\n      <td>0.58</td>\n      <td>16.11</td>\n      <td>17.91</td>\n      <td>0.41</td>\n    </tr>\n  </tbody>\n</table>\n</div>"
     },
     "execution_count": 18,
     "metadata": {},
     "output_type": "execute_result"
    }
   ],
   "source": [
    "df2"
   ],
   "execution_count": 18
  },
  {
   "cell_type": "markdown",
   "metadata": {},
   "source": [
    "Let's see if we can extract some information from this dataframe. Perhaps, we need to know the family and genus of a cherry.\n"
   ]
  },
  {
   "cell_type": "code",
   "metadata": {
    "ExecuteTime": {
     "end_time": "2023-11-16T17:22:10.392112600Z",
     "start_time": "2023-11-16T17:22:10.357747400Z"
    }
   },
   "outputs": [
    {
     "data": {
      "text/plain": "('Rosaceae', 'Prunus')"
     },
     "execution_count": 22,
     "metadata": {},
     "output_type": "execute_result"
    }
   ],
   "source": [
    "cherry = df2.loc[df2[\"name\"] == 'Cherry']\n",
    "cherry\n",
    "(cherry.iloc[0]['family']) , (cherry.iloc[0]['genus'])\n"
   ],
   "execution_count": 22
  },
  {
   "cell_type": "markdown",
   "metadata": {},
   "source": [
    "## Exercise 2\n",
    "In this Exercise, find out how many calories are contained in a banana.\n"
   ]
  },
  {
   "cell_type": "code",
   "metadata": {
    "ExecuteTime": {
     "end_time": "2023-11-16T17:24:31.987586600Z",
     "start_time": "2023-11-16T17:24:31.949980300Z"
    }
   },
   "outputs": [
    {
     "data": {
      "text/plain": "96"
     },
     "execution_count": 25,
     "metadata": {},
     "output_type": "execute_result"
    }
   ],
   "source": [
    "# Write your code here\n",
    "df3 = df2.loc[df2['name']=='Banana']\n",
    "df3.iloc[0]['nutritions.calories']"
   ],
   "execution_count": 25
  },
  {
   "cell_type": "markdown",
   "source": [
    "<details> <summary>Click here for the solution</summary>\n",
    "\n",
    "```python\n",
    "cal_banana = df2.loc[df2[\"name\"] == 'Banana']\n",
    "cal_banana.iloc[0]['nutritions.calories']\n",
    "```\n",
    "\n",
    "</details>\n"
   ],
   "metadata": {
    "collapsed": false
   }
  },
  {
   "cell_type": "markdown",
   "metadata": {},
   "source": [
    "## Exercise 3\n",
    "\n",
    "This [page](https://mixedanalytics.com/blog/list-actually-free-open-no-auth-needed-apis/) contains a list of free public APIs for you to practice. Let us deal with the following example.\n",
    "\n",
    "#### Official Joke API \n",
    "This API returns random jokes from a database. The following URL can be used to retrieve 10 random jokes.\n",
    "\n",
    "https://official-joke-api.appspot.com/jokes/ten\n",
    "\n",
    "1. Using `requests.get(\"url\")` function, load the data from the URL.\n"
   ]
  },
  {
   "cell_type": "code",
   "metadata": {
    "ExecuteTime": {
     "end_time": "2023-11-16T17:28:17.410345900Z",
     "start_time": "2023-11-16T17:28:16.883674400Z"
    }
   },
   "outputs": [],
   "source": [
    "# Write your code here\n",
    "url = 'https://official-joke-api.appspot.com/jokes/ten'\n",
    "data = requests.get(url)"
   ],
   "execution_count": 30
  },
  {
   "cell_type": "markdown",
   "metadata": {},
   "source": [
    "<details><summary>Click here for the solution</summary>\n",
    "\n",
    "```python\n",
    "data2 = requests.get(\"https://official-joke-api.appspot.com/jokes/ten\")\n",
    "```\n",
    "\n",
    "</details>\n"
   ]
  },
  {
   "cell_type": "markdown",
   "metadata": {},
   "source": [
    "2. Retrieve results using `json.loads()` function.\n"
   ]
  },
  {
   "cell_type": "code",
   "metadata": {
    "ExecuteTime": {
     "end_time": "2023-11-16T17:28:18.962915200Z",
     "start_time": "2023-11-16T17:28:18.944824400Z"
    }
   },
   "outputs": [
    {
     "data": {
      "text/plain": "[{'type': 'programming',\n  'setup': 'To understand what recursion is...',\n  'punchline': 'You must first understand what recursion is',\n  'id': 28},\n {'type': 'general',\n  'setup': 'Why do pirates not know the alphabet?',\n  'punchline': 'They always get stuck at \"C\".',\n  'id': 355},\n {'type': 'general',\n  'setup': \"I'm reading a book about anti-gravity...\",\n  'punchline': \"It's impossible to put down\",\n  'id': 38},\n {'type': 'general',\n  'setup': 'Why did the kid cross the playground?',\n  'punchline': 'To get to the other slide.',\n  'id': 333},\n {'type': 'general',\n  'setup': 'Why are oranges the smartest fruit?',\n  'punchline': 'Because they are made to concentrate. ',\n  'id': 308},\n {'type': 'general',\n  'setup': 'Why did the burglar hang his mugshot on the wall?',\n  'punchline': 'To prove that he was framed!',\n  'id': 322},\n {'type': 'general',\n  'setup': 'Why did Sweden start painting barcodes on the sides of their battleships?',\n  'punchline': 'So they could Scandinavian.',\n  'id': 318},\n {'type': 'general',\n  'setup': 'Can a kangaroo jump higher than the Empire State Building?',\n  'punchline': \"Of course. The Empire State Building can't jump.\",\n  'id': 81},\n {'type': 'general',\n  'setup': 'What do you call sad coffee?',\n  'punchline': 'Despresso.',\n  'id': 62},\n {'type': 'general',\n  'setup': 'Did you hear the one about the guy with the broken hearing aid?',\n  'punchline': 'Neither did he.',\n  'id': 101}]"
     },
     "execution_count": 31,
     "metadata": {},
     "output_type": "execute_result"
    }
   ],
   "source": [
    "# Write your code here\n",
    "json.loads(data.text)"
   ],
   "execution_count": 31
  },
  {
   "cell_type": "markdown",
   "metadata": {},
   "source": [
    "<details><summary>Click here for the solution</summary>\n",
    "\n",
    "```python\n",
    "results2 = json.loads(data2.text)\n",
    "```\n",
    "\n",
    "</details>\n"
   ]
  },
  {
   "cell_type": "markdown",
   "metadata": {},
   "source": [
    "3. Convert json data into *pandas* data frame. Drop the type and id columns.\n"
   ]
  },
  {
   "cell_type": "code",
   "metadata": {
    "ExecuteTime": {
     "end_time": "2023-11-16T17:31:10.926734100Z",
     "start_time": "2023-11-16T17:31:10.884531200Z"
    }
   },
   "outputs": [
    {
     "data": {
      "text/plain": "                                               setup  \\\n0                 To understand what recursion is...   \n1              Why do pirates not know the alphabet?   \n2           I'm reading a book about anti-gravity...   \n3              Why did the kid cross the playground?   \n4                Why are oranges the smartest fruit?   \n5  Why did the burglar hang his mugshot on the wall?   \n6  Why did Sweden start painting barcodes on the ...   \n7  Can a kangaroo jump higher than the Empire Sta...   \n8                       What do you call sad coffee?   \n9  Did you hear the one about the guy with the br...   \n\n                                          punchline  \n0       You must first understand what recursion is  \n1                     They always get stuck at \"C\".  \n2                       It's impossible to put down  \n3                        To get to the other slide.  \n4            Because they are made to concentrate.   \n5                      To prove that he was framed!  \n6                       So they could Scandinavian.  \n7  Of course. The Empire State Building can't jump.  \n8                                        Despresso.  \n9                                   Neither did he.  ",
      "text/html": "<div>\n<style scoped>\n    .dataframe tbody tr th:only-of-type {\n        vertical-align: middle;\n    }\n\n    .dataframe tbody tr th {\n        vertical-align: top;\n    }\n\n    .dataframe thead th {\n        text-align: right;\n    }\n</style>\n<table border=\"1\" class=\"dataframe\">\n  <thead>\n    <tr style=\"text-align: right;\">\n      <th></th>\n      <th>setup</th>\n      <th>punchline</th>\n    </tr>\n  </thead>\n  <tbody>\n    <tr>\n      <th>0</th>\n      <td>To understand what recursion is...</td>\n      <td>You must first understand what recursion is</td>\n    </tr>\n    <tr>\n      <th>1</th>\n      <td>Why do pirates not know the alphabet?</td>\n      <td>They always get stuck at \"C\".</td>\n    </tr>\n    <tr>\n      <th>2</th>\n      <td>I'm reading a book about anti-gravity...</td>\n      <td>It's impossible to put down</td>\n    </tr>\n    <tr>\n      <th>3</th>\n      <td>Why did the kid cross the playground?</td>\n      <td>To get to the other slide.</td>\n    </tr>\n    <tr>\n      <th>4</th>\n      <td>Why are oranges the smartest fruit?</td>\n      <td>Because they are made to concentrate.</td>\n    </tr>\n    <tr>\n      <th>5</th>\n      <td>Why did the burglar hang his mugshot on the wall?</td>\n      <td>To prove that he was framed!</td>\n    </tr>\n    <tr>\n      <th>6</th>\n      <td>Why did Sweden start painting barcodes on the ...</td>\n      <td>So they could Scandinavian.</td>\n    </tr>\n    <tr>\n      <th>7</th>\n      <td>Can a kangaroo jump higher than the Empire Sta...</td>\n      <td>Of course. The Empire State Building can't jump.</td>\n    </tr>\n    <tr>\n      <th>8</th>\n      <td>What do you call sad coffee?</td>\n      <td>Despresso.</td>\n    </tr>\n    <tr>\n      <th>9</th>\n      <td>Did you hear the one about the guy with the br...</td>\n      <td>Neither did he.</td>\n    </tr>\n  </tbody>\n</table>\n</div>"
     },
     "execution_count": 34,
     "metadata": {},
     "output_type": "execute_result"
    }
   ],
   "source": [
    "# Write your code here\n",
    "df = pd.json_normalize(json.loads(data.text))\n",
    "df.drop(columns=['type','id'],inplace=True)\n",
    "df"
   ],
   "execution_count": 34
  },
  {
   "cell_type": "markdown",
   "metadata": {},
   "source": [
    "<details><summary>Click here for the solution</summary>\n",
    "\n",
    "```python\n",
    "df3 = pd.DataFrame(results2)\n",
    "df3.drop(columns=[\"type\",\"id\"],inplace=True)\n",
    "df3\n",
    "```\n",
    "\n",
    "</details>\n"
   ]
  },
  {
   "cell_type": "markdown",
   "metadata": {},
   "source": [
    "# Congratulations! - You have completed the lab\n"
   ]
  },
  {
   "cell_type": "markdown",
   "metadata": {},
   "source": [
    "## Author\n",
    "<a href=\"https://www.linkedin.com/in/svitlana-kramar\" target=\"_blank\">Svitlana Kramar</a>\n",
    "\n",
    "Svitlana is a master’s degree Data Science and Analytics student at University of Calgary, who enjoys travelling, learning new languages and cultures and loves spreading her passion for Data Science.\n",
    "\n",
    "## Additional Contributor\n",
    "<a href=\"https://www.linkedin.com/in/abhishek-gagneja-23051987/\" target=\"_blank\">Abhishek Gagneja</a>\n"
   ]
  },
  {
   "cell_type": "markdown",
   "metadata": {},
   "source": [
    "Copyright © 2023 IBM Corporation. All rights reserved.\n"
   ]
  }
 ],
 "metadata": {
  "kernelspec": {
   "name": "python3",
   "language": "python",
   "display_name": "Python 3 (ipykernel)"
  },
  "language_info": {
   "name": ""
  }
 },
 "nbformat": 4,
 "nbformat_minor": 4
}
