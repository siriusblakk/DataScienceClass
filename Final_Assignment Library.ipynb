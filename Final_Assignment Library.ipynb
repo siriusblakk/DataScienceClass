{
 "cells": [
  {
   "cell_type": "markdown",
   "metadata": {},
   "source": [
    "<center>\n",
    "    <img src=\"https://cf-courses-data.s3.us.cloud-object-storage.appdomain.cloud/IBMDeveloperSkillsNetwork-PY0220EN-SkillsNetwork/labs/project/Images/SN_logo.png\" width=\"300\" alt=\"cognitiveclass.ai logo\">\n",
    "</center>\n"
   ]
  },
  {
   "cell_type": "markdown",
   "metadata": {},
   "source": [
    "<h1>Extracting Stock Data Using a Python Library</h1>\n"
   ]
  },
  {
   "cell_type": "markdown",
   "metadata": {},
   "source": [
    "A company's stock share is a piece of the company more precisely:\n",
    "<p><b>A stock (also known as equity) is a security that represents the ownership of a fraction of a corporation. This\n",
    "entitles the owner of the stock to a proportion of the corporation's assets and profits equal to how much stock they own. Units of stock are called \"shares.\" [1]</p></b>\n",
    "\n",
    "An investor can buy a stock and sell it later. If the stock price increases, the investor profits, If it decreases,the investor with incur a loss.  Determining the stock price is complex; it depends on the number of outstanding shares, the size of the company's future profits, and much more. People trade stocks throughout the day the stock ticker is a report of the price of a certain stock, updated continuously throughout the trading session by the various stock market exchanges. \n",
    "<p>You are a data scientist working for a hedge fund; it's your job to determine any suspicious stock activity. In this lab you will extract stock data using a Python library. We will use the <coode>yfinance</code> library, it allows us to extract data for stocks returning data in a pandas dataframe. You will use the lab to extract.</p>\n"
   ]
  },
  {
   "cell_type": "markdown",
   "metadata": {},
   "source": [
    "<h2>Table of Contents</h2>\n",
    "<div class=\"alert alert-block alert-info\" style=\"margin-top: 20px\">\n",
    "    <ul>\n",
    "        <li>Using yfinance to Extract Stock Info</li>\n",
    "        <li>Using yfinance to Extract Historical Share Price Data</li>\n",
    "        <li>Using yfinance to Extract Historical Dividends Data</li>\n",
    "        <li>Exercise</li>\n",
    "    </ul>\n",
    "<p>\n",
    "    Estimated Time Needed: <strong>30 min</strong></p>\n",
    "</div>\n",
    "\n",
    "<hr>\n"
   ]
  },
  {
   "cell_type": "code",
   "metadata": {
    "ExecuteTime": {
     "end_time": "2023-11-28T03:34:58.849256700Z",
     "start_time": "2023-11-28T03:34:56.063194700Z"
    }
   },
   "outputs": [
    {
     "name": "stdout",
     "output_type": "stream",
     "text": [
      "Requirement already satisfied: yfinance==0.2.4 in c:\\users\\gmaples\\pycharmprojects\\datascienceclass\\.venv\\lib\\site-packages (0.2.4)\n",
      "Requirement already satisfied: pandas>=1.3.0 in c:\\users\\gmaples\\pycharmprojects\\datascienceclass\\.venv\\lib\\site-packages (from yfinance==0.2.4) (2.1.3)\n",
      "Requirement already satisfied: numpy>=1.16.5 in c:\\users\\gmaples\\pycharmprojects\\datascienceclass\\.venv\\lib\\site-packages (from yfinance==0.2.4) (1.26.2)\n",
      "Requirement already satisfied: requests>=2.26 in c:\\users\\gmaples\\pycharmprojects\\datascienceclass\\.venv\\lib\\site-packages (from yfinance==0.2.4) (2.31.0)\n",
      "Requirement already satisfied: multitasking>=0.0.7 in c:\\users\\gmaples\\pycharmprojects\\datascienceclass\\.venv\\lib\\site-packages (from yfinance==0.2.4) (0.0.11)\n",
      "Requirement already satisfied: lxml>=4.9.1 in c:\\users\\gmaples\\pycharmprojects\\datascienceclass\\.venv\\lib\\site-packages (from yfinance==0.2.4) (4.9.3)\n",
      "Requirement already satisfied: appdirs>=1.4.4 in c:\\users\\gmaples\\pycharmprojects\\datascienceclass\\.venv\\lib\\site-packages (from yfinance==0.2.4) (1.4.4)\n",
      "Requirement already satisfied: pytz>=2022.5 in c:\\users\\gmaples\\pycharmprojects\\datascienceclass\\.venv\\lib\\site-packages (from yfinance==0.2.4) (2023.3.post1)\n",
      "Requirement already satisfied: frozendict>=2.3.4 in c:\\users\\gmaples\\pycharmprojects\\datascienceclass\\.venv\\lib\\site-packages (from yfinance==0.2.4) (2.3.8)\n",
      "Requirement already satisfied: cryptography>=3.3.2 in c:\\users\\gmaples\\pycharmprojects\\datascienceclass\\.venv\\lib\\site-packages (from yfinance==0.2.4) (41.0.5)\n",
      "Requirement already satisfied: beautifulsoup4>=4.11.1 in c:\\users\\gmaples\\pycharmprojects\\datascienceclass\\.venv\\lib\\site-packages (from yfinance==0.2.4) (4.12.2)\n",
      "Requirement already satisfied: html5lib>=1.1 in c:\\users\\gmaples\\pycharmprojects\\datascienceclass\\.venv\\lib\\site-packages (from yfinance==0.2.4) (1.1)\n",
      "Requirement already satisfied: soupsieve>1.2 in c:\\users\\gmaples\\pycharmprojects\\datascienceclass\\.venv\\lib\\site-packages (from beautifulsoup4>=4.11.1->yfinance==0.2.4) (2.5)\n",
      "Requirement already satisfied: cffi>=1.12 in c:\\users\\gmaples\\pycharmprojects\\datascienceclass\\.venv\\lib\\site-packages (from cryptography>=3.3.2->yfinance==0.2.4) (1.16.0)\n",
      "Requirement already satisfied: six>=1.9 in c:\\users\\gmaples\\pycharmprojects\\datascienceclass\\.venv\\lib\\site-packages (from html5lib>=1.1->yfinance==0.2.4) (1.16.0)\n",
      "Requirement already satisfied: webencodings in c:\\users\\gmaples\\pycharmprojects\\datascienceclass\\.venv\\lib\\site-packages (from html5lib>=1.1->yfinance==0.2.4) (0.5.1)\n",
      "Requirement already satisfied: python-dateutil>=2.8.2 in c:\\users\\gmaples\\pycharmprojects\\datascienceclass\\.venv\\lib\\site-packages (from pandas>=1.3.0->yfinance==0.2.4) (2.8.2)\n",
      "Requirement already satisfied: tzdata>=2022.1 in c:\\users\\gmaples\\pycharmprojects\\datascienceclass\\.venv\\lib\\site-packages (from pandas>=1.3.0->yfinance==0.2.4) (2023.3)\n",
      "Requirement already satisfied: charset-normalizer<4,>=2 in c:\\users\\gmaples\\pycharmprojects\\datascienceclass\\.venv\\lib\\site-packages (from requests>=2.26->yfinance==0.2.4) (3.3.2)\n",
      "Requirement already satisfied: idna<4,>=2.5 in c:\\users\\gmaples\\pycharmprojects\\datascienceclass\\.venv\\lib\\site-packages (from requests>=2.26->yfinance==0.2.4) (3.4)\n",
      "Requirement already satisfied: urllib3<3,>=1.21.1 in c:\\users\\gmaples\\pycharmprojects\\datascienceclass\\.venv\\lib\\site-packages (from requests>=2.26->yfinance==0.2.4) (2.1.0)\n",
      "Requirement already satisfied: certifi>=2017.4.17 in c:\\users\\gmaples\\pycharmprojects\\datascienceclass\\.venv\\lib\\site-packages (from requests>=2.26->yfinance==0.2.4) (2023.7.22)\n",
      "Requirement already satisfied: pycparser in c:\\users\\gmaples\\pycharmprojects\\datascienceclass\\.venv\\lib\\site-packages (from cffi>=1.12->cryptography>=3.3.2->yfinance==0.2.4) (2.21)\n"
     ]
    },
    {
     "name": "stderr",
     "output_type": "stream",
     "text": [
      "\n",
      "[notice] A new release of pip available: 22.3.1 -> 23.3.1\n",
      "[notice] To update, run: python.exe -m pip install --upgrade pip\n"
     ]
    }
   ],
   "source": [
    "!pip install yfinance==0.2.4\n",
    "#!pip install pandas==1.3.3"
   ],
   "execution_count": 1
  },
  {
   "cell_type": "code",
   "metadata": {
    "ExecuteTime": {
     "end_time": "2023-11-28T03:35:02.787057500Z",
     "start_time": "2023-11-28T03:35:02.623597200Z"
    }
   },
   "outputs": [],
   "source": [
    "import yfinance as yf\n",
    "import pandas as pd"
   ],
   "execution_count": 2
  },
  {
   "cell_type": "markdown",
   "metadata": {},
   "source": [
    "## Using the yfinance Library to Extract Stock Data\n"
   ]
  },
  {
   "cell_type": "markdown",
   "metadata": {},
   "source": [
    "Using the `Ticker` module we can create an object that will allow us to access functions to extract data. To do this we need to provide the ticker symbol for the stock, here the company is Apple and the ticker symbol is `AAPL`.\n"
   ]
  },
  {
   "cell_type": "code",
   "metadata": {
    "ExecuteTime": {
     "end_time": "2023-11-28T03:35:05.037326Z",
     "start_time": "2023-11-28T03:35:05.019811400Z"
    }
   },
   "outputs": [],
   "source": [
    "apple = yf.Ticker(\"AAPL\")"
   ],
   "execution_count": 3
  },
  {
   "cell_type": "markdown",
   "metadata": {},
   "source": [
    "Now we can access functions and variables to extract the type of data we need. You can view them and what they represent here https://aroussi.com/post/python-yahoo-finance.\n"
   ]
  },
  {
   "cell_type": "code",
   "metadata": {
    "ExecuteTime": {
     "end_time": "2023-11-21T18:54:30.494343600Z",
     "start_time": "2023-11-21T18:54:29.853259800Z"
    }
   },
   "outputs": [
    {
     "name": "stdout",
     "output_type": "stream",
     "text": [
      "{'zip': '95014', 'sector': 'Technology', 'fullTimeEmployees': 100000, 'longBusinessSummary': 'Apple Inc. designs, manufactures, and markets smartphones, personal computers, tablets, wearables, and accessories worldwide. It also sells various related services. In addition, the company offers iPhone, a line of smartphones; Mac, a line of personal computers; iPad, a line of multi-purpose tablets; AirPods Max, an over-ear wireless headphone; and wearables, home, and accessories comprising AirPods, Apple TV, Apple Watch, Beats products, HomePod, and iPod touch. Further, it provides AppleCare support services; cloud services store services; and operates various platforms, including the App Store that allow customers to discover and download applications and digital content, such as books, music, video, games, and podcasts. Additionally, the company offers various services, such as Apple Arcade, a game subscription service; Apple Music, which offers users a curated listening experience with on-demand radio stations; Apple News+, a subscription news and magazine service; Apple TV+, which offers exclusive original content; Apple Card, a co-branded credit card; and Apple Pay, a cashless payment service, as well as licenses its intellectual property. The company serves consumers, and small and mid-sized businesses; and the education, enterprise, and government markets. It distributes third-party applications for its products through the App Store. The company also sells its products through its retail and online stores, and direct sales force; and third-party cellular network carriers, wholesalers, retailers, and resellers. Apple Inc. was incorporated in 1977 and is headquartered in Cupertino, California.', 'city': 'Cupertino', 'phone': '408 996 1010', 'state': 'CA', 'country': 'United States', 'companyOfficers': [], 'website': 'https://www.apple.com', 'maxAge': 1, 'address1': 'One Apple Park Way', 'industry': 'Consumer Electronics', 'ebitdaMargins': 0.33890998, 'profitMargins': 0.26579002, 'grossMargins': 0.43019, 'operatingCashflow': 112241000448, 'revenueGrowth': 0.112, 'operatingMargins': 0.309, 'ebitda': 128217997312, 'targetLowPrice': 160, 'recommendationKey': 'buy', 'grossProfits': 152836000000, 'freeCashflow': 80153247744, 'targetMedianPrice': 199.5, 'currentPrice': 177.77, 'earningsGrowth': 0.25, 'currentRatio': 1.038, 'returnOnAssets': 0.19875, 'numberOfAnalystOpinions': 44, 'targetMeanPrice': 193.53, 'debtToEquity': 170.714, 'returnOnEquity': 1.45567, 'targetHighPrice': 215, 'totalCash': 63913000960, 'totalDebt': 122797998080, 'totalRevenue': 378323009536, 'totalCashPerShare': 3.916, 'financialCurrency': 'USD', 'revenuePerShare': 22.838, 'quickRatio': 0.875, 'recommendationMean': 1.8, 'exchange': 'NMS', 'shortName': 'Apple Inc.', 'longName': 'Apple Inc.', 'exchangeTimezoneName': 'America/New_York', 'exchangeTimezoneShortName': 'EDT', 'isEsgPopulated': False, 'gmtOffSetMilliseconds': '-14400000', 'quoteType': 'EQUITY', 'symbol': 'AAPL', 'messageBoardId': 'finmb_24937', 'market': 'us_market', 'annualHoldingsTurnover': None, 'enterpriseToRevenue': 7.824, 'beta3Year': None, 'enterpriseToEbitda': 23.086, '52WeekChange': 0.4549594, 'morningStarRiskRating': None, 'forwardEps': 6.56, 'revenueQuarterlyGrowth': None, 'sharesOutstanding': 16319399936, 'fundInceptionDate': None, 'annualReportExpenseRatio': None, 'totalAssets': None, 'bookValue': 4.402, 'sharesShort': 111286790, 'sharesPercentSharesOut': 0.0068, 'fundFamily': None, 'lastFiscalYearEnd': 1632528000, 'heldPercentInstitutions': 0.59397, 'netIncomeToCommon': 100554997760, 'trailingEps': 6.015, 'lastDividendValue': 0.22, 'SandP52WeekChange': 0.15217662, 'priceToBook': 40.38392, 'heldPercentInsiders': 0.0007, 'nextFiscalYearEnd': 1695600000, 'yield': None, 'mostRecentQuarter': 1640390400, 'shortRatio': 1.21, 'sharesShortPreviousMonthDate': 1644883200, 'floatShares': 16302795170, 'beta': 1.185531, 'enterpriseValue': 2959991898112, 'priceHint': 2, 'threeYearAverageReturn': None, 'lastSplitDate': 1598832000, 'lastSplitFactor': '4:1', 'legalType': None, 'lastDividendDate': 1643932800, 'morningStarOverallRating': None, 'earningsQuarterlyGrowth': 0.204, 'priceToSalesTrailing12Months': 7.668314, 'dateShortInterest': 1647302400, 'pegRatio': 1.94, 'ytdReturn': None, 'forwardPE': 27.099087, 'lastCapGain': None, 'shortPercentOfFloat': 0.0068, 'sharesShortPriorMonth': 108944701, 'impliedSharesOutstanding': 0, 'category': None, 'fiveYearAverageReturn': None, 'previousClose': 178.96, 'regularMarketOpen': 178.55, 'twoHundredDayAverage': 156.03505, 'trailingAnnualDividendYield': 0.004833482, 'payoutRatio': 0.1434, 'volume24Hr': None, 'regularMarketDayHigh': 179.61, 'navPrice': None, 'averageDailyVolume10Day': 93823630, 'regularMarketPreviousClose': 178.96, 'fiftyDayAverage': 166.498, 'trailingAnnualDividendRate': 0.865, 'open': 178.55, 'toCurrency': None, 'averageVolume10days': 93823630, 'expireDate': None, 'algorithm': None, 'dividendRate': 0.88, 'exDividendDate': 1643932800, 'circulatingSupply': None, 'startDate': None, 'regularMarketDayLow': 176.7, 'currency': 'USD', 'trailingPE': 29.55445, 'regularMarketVolume': 92633154, 'lastMarket': None, 'maxSupply': None, 'openInterest': None, 'marketCap': 2901099675648, 'volumeAllCurrencies': None, 'strikePrice': None, 'averageVolume': 95342043, 'dayLow': 176.7, 'ask': 178.53, 'askSize': 800, 'volume': 92633154, 'fiftyTwoWeekHigh': 182.94, 'fromCurrency': None, 'fiveYearAvgDividendYield': 1.13, 'fiftyTwoWeekLow': 122.25, 'bid': 178.4, 'tradeable': False, 'dividendYield': 0.005, 'bidSize': 3200, 'dayHigh': 179.61, 'regularMarketPrice': 177.77, 'preMarketPrice': 178.38, 'logo_url': 'https://logo.clearbit.com/apple.com'}\n"
     ]
    }
   ],
   "source": [
    "import urllib.request, json \n",
    "with urllib.request.urlopen(\"https://cf-courses-data.s3.us.cloud-object-storage.appdomain.cloud/IBMDeveloperSkillsNetwork-PY0220EN-SkillsNetwork/data/apple.json\") as url:\n",
    "    data = json.load(url)\n",
    "    print(data)\n",
    "    \n"
   ],
   "execution_count": 7
  },
  {
   "cell_type": "markdown",
   "metadata": {},
   "source": [
    "### Stock Info\n"
   ]
  },
  {
   "cell_type": "markdown",
   "metadata": {},
   "source": [
    "Using the attribute  <code>info</code> we can extract information about the stock as a Python dictionary.\n"
   ]
  },
  {
   "cell_type": "code",
   "metadata": {},
   "outputs": [],
   "source": [
    "import json\n",
    "with open('apple.json') as json_file:\n",
    "    apple_info = json.load(json_file)\n",
    "    # Print the type of data variable    \n",
    "    #print(\"Type:\", type(apple_info))\n",
    "apple_info"
   ]
  },
  {
   "cell_type": "markdown",
   "metadata": {},
   "source": [
    "We can get the <code>'country'</code> using the key country\n"
   ]
  },
  {
   "cell_type": "code",
   "metadata": {
    "ExecuteTime": {
     "end_time": "2023-11-21T18:55:13.640136300Z",
     "start_time": "2023-11-21T18:55:13.617423400Z"
    }
   },
   "outputs": [
    {
     "data": {
      "text/plain": "'United States'"
     },
     "execution_count": 8,
     "metadata": {},
     "output_type": "execute_result"
    }
   ],
   "source": [
    "data['country']"
   ],
   "execution_count": 8
  },
  {
   "cell_type": "markdown",
   "metadata": {},
   "source": [
    "### Extracting Share Price\n"
   ]
  },
  {
   "cell_type": "markdown",
   "metadata": {},
   "source": [
    "A share is the single smallest part of a company's stock  that you can buy, the prices of these shares fluctuate over time. Using the <code>history()</code> method we can get the share price of the stock over a certain period of time. Using the `period` parameter we can set how far back from the present to get data. The options for `period` are 1 day (1d), 5d, 1 month (1mo) , 3mo, 6mo, 1 year (1y), 2y, 5y, 10y, ytd, and max.\n"
   ]
  },
  {
   "cell_type": "code",
   "metadata": {
    "ExecuteTime": {
     "end_time": "2023-11-28T03:35:10.716530600Z",
     "start_time": "2023-11-28T03:35:09.875119Z"
    }
   },
   "outputs": [
    {
     "data": {
      "text/plain": "                                 Open        High         Low       Close  \\\nDate                                                                        \n2018-11-28 00:00:00-05:00   42.406836   43.501019   41.974920   43.417038   \n2018-11-29 00:00:00-05:00   43.829761   43.863354   42.639594   43.083508   \n2018-11-30 00:00:00-05:00   43.261071   43.270671   42.478826   42.850754   \n2018-12-03 00:00:00-05:00   44.261685   44.376861   43.481839   44.348068   \n2018-12-04 00:00:00-05:00   43.419445   43.764977   42.296468   42.397247   \n...                               ...         ...         ...         ...   \n2023-11-20 00:00:00-05:00  189.889999  191.910004  189.880005  191.449997   \n2023-11-21 00:00:00-05:00  191.410004  191.520004  189.740005  190.639999   \n2023-11-22 00:00:00-05:00  191.490005  192.929993  190.830002  191.309998   \n2023-11-24 00:00:00-05:00  190.869995  190.899994  189.250000  189.970001   \n2023-11-27 00:00:00-05:00  189.919998  190.669998  188.899994  189.789993   \n\n                              Volume  Dividends  Stock Splits  \nDate                                                           \n2018-11-28 00:00:00-05:00  184250000        0.0           0.0  \n2018-11-29 00:00:00-05:00  167080000        0.0           0.0  \n2018-11-30 00:00:00-05:00  158126000        0.0           0.0  \n2018-12-03 00:00:00-05:00  163210000        0.0           0.0  \n2018-12-04 00:00:00-05:00  165377200        0.0           0.0  \n...                              ...        ...           ...  \n2023-11-20 00:00:00-05:00   46505100        0.0           0.0  \n2023-11-21 00:00:00-05:00   38134500        0.0           0.0  \n2023-11-22 00:00:00-05:00   39617700        0.0           0.0  \n2023-11-24 00:00:00-05:00   24048300        0.0           0.0  \n2023-11-27 00:00:00-05:00   40500500        0.0           0.0  \n\n[1257 rows x 7 columns]",
      "text/html": "<div>\n<style scoped>\n    .dataframe tbody tr th:only-of-type {\n        vertical-align: middle;\n    }\n\n    .dataframe tbody tr th {\n        vertical-align: top;\n    }\n\n    .dataframe thead th {\n        text-align: right;\n    }\n</style>\n<table border=\"1\" class=\"dataframe\">\n  <thead>\n    <tr style=\"text-align: right;\">\n      <th></th>\n      <th>Open</th>\n      <th>High</th>\n      <th>Low</th>\n      <th>Close</th>\n      <th>Volume</th>\n      <th>Dividends</th>\n      <th>Stock Splits</th>\n    </tr>\n    <tr>\n      <th>Date</th>\n      <th></th>\n      <th></th>\n      <th></th>\n      <th></th>\n      <th></th>\n      <th></th>\n      <th></th>\n    </tr>\n  </thead>\n  <tbody>\n    <tr>\n      <th>2018-11-28 00:00:00-05:00</th>\n      <td>42.406836</td>\n      <td>43.501019</td>\n      <td>41.974920</td>\n      <td>43.417038</td>\n      <td>184250000</td>\n      <td>0.0</td>\n      <td>0.0</td>\n    </tr>\n    <tr>\n      <th>2018-11-29 00:00:00-05:00</th>\n      <td>43.829761</td>\n      <td>43.863354</td>\n      <td>42.639594</td>\n      <td>43.083508</td>\n      <td>167080000</td>\n      <td>0.0</td>\n      <td>0.0</td>\n    </tr>\n    <tr>\n      <th>2018-11-30 00:00:00-05:00</th>\n      <td>43.261071</td>\n      <td>43.270671</td>\n      <td>42.478826</td>\n      <td>42.850754</td>\n      <td>158126000</td>\n      <td>0.0</td>\n      <td>0.0</td>\n    </tr>\n    <tr>\n      <th>2018-12-03 00:00:00-05:00</th>\n      <td>44.261685</td>\n      <td>44.376861</td>\n      <td>43.481839</td>\n      <td>44.348068</td>\n      <td>163210000</td>\n      <td>0.0</td>\n      <td>0.0</td>\n    </tr>\n    <tr>\n      <th>2018-12-04 00:00:00-05:00</th>\n      <td>43.419445</td>\n      <td>43.764977</td>\n      <td>42.296468</td>\n      <td>42.397247</td>\n      <td>165377200</td>\n      <td>0.0</td>\n      <td>0.0</td>\n    </tr>\n    <tr>\n      <th>...</th>\n      <td>...</td>\n      <td>...</td>\n      <td>...</td>\n      <td>...</td>\n      <td>...</td>\n      <td>...</td>\n      <td>...</td>\n    </tr>\n    <tr>\n      <th>2023-11-20 00:00:00-05:00</th>\n      <td>189.889999</td>\n      <td>191.910004</td>\n      <td>189.880005</td>\n      <td>191.449997</td>\n      <td>46505100</td>\n      <td>0.0</td>\n      <td>0.0</td>\n    </tr>\n    <tr>\n      <th>2023-11-21 00:00:00-05:00</th>\n      <td>191.410004</td>\n      <td>191.520004</td>\n      <td>189.740005</td>\n      <td>190.639999</td>\n      <td>38134500</td>\n      <td>0.0</td>\n      <td>0.0</td>\n    </tr>\n    <tr>\n      <th>2023-11-22 00:00:00-05:00</th>\n      <td>191.490005</td>\n      <td>192.929993</td>\n      <td>190.830002</td>\n      <td>191.309998</td>\n      <td>39617700</td>\n      <td>0.0</td>\n      <td>0.0</td>\n    </tr>\n    <tr>\n      <th>2023-11-24 00:00:00-05:00</th>\n      <td>190.869995</td>\n      <td>190.899994</td>\n      <td>189.250000</td>\n      <td>189.970001</td>\n      <td>24048300</td>\n      <td>0.0</td>\n      <td>0.0</td>\n    </tr>\n    <tr>\n      <th>2023-11-27 00:00:00-05:00</th>\n      <td>189.919998</td>\n      <td>190.669998</td>\n      <td>188.899994</td>\n      <td>189.789993</td>\n      <td>40500500</td>\n      <td>0.0</td>\n      <td>0.0</td>\n    </tr>\n  </tbody>\n</table>\n<p>1257 rows × 7 columns</p>\n</div>"
     },
     "execution_count": 4,
     "metadata": {},
     "output_type": "execute_result"
    }
   ],
   "source": [
    "apple_share_price_data = apple.history(period=\"5y\")\n",
    "apple_share_price_data"
   ],
   "execution_count": 4
  },
  {
   "cell_type": "markdown",
   "metadata": {},
   "source": [
    "The format that the data is returned in is a Pandas DataFrame. With the `Date` as the index the share `Open`, `High`, `Low`, `Close`, `Volume`, and `Stock Splits` are given for each day.\n"
   ]
  },
  {
   "cell_type": "code",
   "metadata": {
    "ExecuteTime": {
     "end_time": "2023-11-21T19:03:13.575388900Z",
     "start_time": "2023-11-21T19:03:13.501778600Z"
    }
   },
   "outputs": [
    {
     "ename": "KeyError",
     "evalue": "'Date'",
     "output_type": "error",
     "traceback": [
      "\u001B[1;31m---------------------------------------------------------------------------\u001B[0m",
      "\u001B[1;31mKeyError\u001B[0m                                  Traceback (most recent call last)",
      "File \u001B[1;32m~\\PycharmProjects\\DataScienceClass\\.venv\\Lib\\site-packages\\pandas\\core\\indexes\\base.py:3790\u001B[0m, in \u001B[0;36mIndex.get_loc\u001B[1;34m(self, key)\u001B[0m\n\u001B[0;32m   3789\u001B[0m \u001B[38;5;28;01mtry\u001B[39;00m:\n\u001B[1;32m-> 3790\u001B[0m     \u001B[38;5;28;01mreturn\u001B[39;00m \u001B[38;5;28;43mself\u001B[39;49m\u001B[38;5;241;43m.\u001B[39;49m\u001B[43m_engine\u001B[49m\u001B[38;5;241;43m.\u001B[39;49m\u001B[43mget_loc\u001B[49m\u001B[43m(\u001B[49m\u001B[43mcasted_key\u001B[49m\u001B[43m)\u001B[49m\n\u001B[0;32m   3791\u001B[0m \u001B[38;5;28;01mexcept\u001B[39;00m \u001B[38;5;167;01mKeyError\u001B[39;00m \u001B[38;5;28;01mas\u001B[39;00m err:\n",
      "File \u001B[1;32mindex.pyx:152\u001B[0m, in \u001B[0;36mpandas._libs.index.IndexEngine.get_loc\u001B[1;34m()\u001B[0m\n",
      "File \u001B[1;32mindex.pyx:181\u001B[0m, in \u001B[0;36mpandas._libs.index.IndexEngine.get_loc\u001B[1;34m()\u001B[0m\n",
      "File \u001B[1;32mpandas\\_libs\\hashtable_class_helper.pxi:7080\u001B[0m, in \u001B[0;36mpandas._libs.hashtable.PyObjectHashTable.get_item\u001B[1;34m()\u001B[0m\n",
      "File \u001B[1;32mpandas\\_libs\\hashtable_class_helper.pxi:7088\u001B[0m, in \u001B[0;36mpandas._libs.hashtable.PyObjectHashTable.get_item\u001B[1;34m()\u001B[0m\n",
      "\u001B[1;31mKeyError\u001B[0m: 'Date'",
      "\nThe above exception was the direct cause of the following exception:\n",
      "\u001B[1;31mKeyError\u001B[0m                                  Traceback (most recent call last)",
      "Cell \u001B[1;32mIn[37], line 1\u001B[0m\n\u001B[1;32m----> 1\u001B[0m \u001B[43mapple_share_price_data\u001B[49m\u001B[43m[\u001B[49m\u001B[38;5;124;43m'\u001B[39;49m\u001B[38;5;124;43mDate\u001B[39;49m\u001B[38;5;124;43m'\u001B[39;49m\u001B[43m]\u001B[49m\n",
      "File \u001B[1;32m~\\PycharmProjects\\DataScienceClass\\.venv\\Lib\\site-packages\\pandas\\core\\frame.py:3893\u001B[0m, in \u001B[0;36mDataFrame.__getitem__\u001B[1;34m(self, key)\u001B[0m\n\u001B[0;32m   3891\u001B[0m \u001B[38;5;28;01mif\u001B[39;00m \u001B[38;5;28mself\u001B[39m\u001B[38;5;241m.\u001B[39mcolumns\u001B[38;5;241m.\u001B[39mnlevels \u001B[38;5;241m>\u001B[39m \u001B[38;5;241m1\u001B[39m:\n\u001B[0;32m   3892\u001B[0m     \u001B[38;5;28;01mreturn\u001B[39;00m \u001B[38;5;28mself\u001B[39m\u001B[38;5;241m.\u001B[39m_getitem_multilevel(key)\n\u001B[1;32m-> 3893\u001B[0m indexer \u001B[38;5;241m=\u001B[39m \u001B[38;5;28;43mself\u001B[39;49m\u001B[38;5;241;43m.\u001B[39;49m\u001B[43mcolumns\u001B[49m\u001B[38;5;241;43m.\u001B[39;49m\u001B[43mget_loc\u001B[49m\u001B[43m(\u001B[49m\u001B[43mkey\u001B[49m\u001B[43m)\u001B[49m\n\u001B[0;32m   3894\u001B[0m \u001B[38;5;28;01mif\u001B[39;00m is_integer(indexer):\n\u001B[0;32m   3895\u001B[0m     indexer \u001B[38;5;241m=\u001B[39m [indexer]\n",
      "File \u001B[1;32m~\\PycharmProjects\\DataScienceClass\\.venv\\Lib\\site-packages\\pandas\\core\\indexes\\base.py:3797\u001B[0m, in \u001B[0;36mIndex.get_loc\u001B[1;34m(self, key)\u001B[0m\n\u001B[0;32m   3792\u001B[0m     \u001B[38;5;28;01mif\u001B[39;00m \u001B[38;5;28misinstance\u001B[39m(casted_key, \u001B[38;5;28mslice\u001B[39m) \u001B[38;5;129;01mor\u001B[39;00m (\n\u001B[0;32m   3793\u001B[0m         \u001B[38;5;28misinstance\u001B[39m(casted_key, abc\u001B[38;5;241m.\u001B[39mIterable)\n\u001B[0;32m   3794\u001B[0m         \u001B[38;5;129;01mand\u001B[39;00m \u001B[38;5;28many\u001B[39m(\u001B[38;5;28misinstance\u001B[39m(x, \u001B[38;5;28mslice\u001B[39m) \u001B[38;5;28;01mfor\u001B[39;00m x \u001B[38;5;129;01min\u001B[39;00m casted_key)\n\u001B[0;32m   3795\u001B[0m     ):\n\u001B[0;32m   3796\u001B[0m         \u001B[38;5;28;01mraise\u001B[39;00m InvalidIndexError(key)\n\u001B[1;32m-> 3797\u001B[0m     \u001B[38;5;28;01mraise\u001B[39;00m \u001B[38;5;167;01mKeyError\u001B[39;00m(key) \u001B[38;5;28;01mfrom\u001B[39;00m \u001B[38;5;21;01merr\u001B[39;00m\n\u001B[0;32m   3798\u001B[0m \u001B[38;5;28;01mexcept\u001B[39;00m \u001B[38;5;167;01mTypeError\u001B[39;00m:\n\u001B[0;32m   3799\u001B[0m     \u001B[38;5;66;03m# If we have a listlike key, _check_indexing_error will raise\u001B[39;00m\n\u001B[0;32m   3800\u001B[0m     \u001B[38;5;66;03m#  InvalidIndexError. Otherwise we fall through and re-raise\u001B[39;00m\n\u001B[0;32m   3801\u001B[0m     \u001B[38;5;66;03m#  the TypeError.\u001B[39;00m\n\u001B[0;32m   3802\u001B[0m     \u001B[38;5;28mself\u001B[39m\u001B[38;5;241m.\u001B[39m_check_indexing_error(key)\n",
      "\u001B[1;31mKeyError\u001B[0m: 'Date'"
     ]
    }
   ],
   "source": [
    "apple_share_price_data.head()"
   ],
   "execution_count": 37
  },
  {
   "cell_type": "markdown",
   "metadata": {},
   "source": [
    "We can reset the index of the DataFrame with the `reset_index` function. We also set the `inplace` paramter to `True` so the change takes place to the DataFrame itself.\n"
   ]
  },
  {
   "cell_type": "code",
   "metadata": {
    "ExecuteTime": {
     "end_time": "2023-11-21T19:05:57.523196700Z",
     "start_time": "2023-11-21T19:05:57.493685100Z"
    }
   },
   "outputs": [
    {
     "data": {
      "text/plain": "0      2018-11-21 00:00:00-05:00\n1      2018-11-23 00:00:00-05:00\n2      2018-11-26 00:00:00-05:00\n3      2018-11-27 00:00:00-05:00\n4      2018-11-28 00:00:00-05:00\n                  ...           \n1253   2023-11-15 00:00:00-05:00\n1254   2023-11-16 00:00:00-05:00\n1255   2023-11-17 00:00:00-05:00\n1256   2023-11-20 00:00:00-05:00\n1257   2023-11-21 00:00:00-05:00\nName: Date, Length: 1258, dtype: datetime64[ns, America/New_York]"
     },
     "execution_count": 56,
     "metadata": {},
     "output_type": "execute_result"
    }
   ],
   "source": [
    "apple_share_price_data.reset_index(inplace=True)\n",
    "apple_share_price_data['Date']"
   ],
   "execution_count": 56
  },
  {
   "cell_type": "markdown",
   "metadata": {},
   "source": [
    "We can plot the `Open` price against the `Date`:\n"
   ]
  },
  {
   "cell_type": "code",
   "metadata": {
    "ExecuteTime": {
     "end_time": "2023-11-21T19:05:31.010467800Z",
     "start_time": "2023-11-21T19:05:30.594707800Z"
    }
   },
   "outputs": [
    {
     "data": {
      "text/plain": "<Axes: xlabel='Date'>"
     },
     "execution_count": 54,
     "metadata": {},
     "output_type": "execute_result"
    },
    {
     "data": {
      "text/plain": "<Figure size 640x480 with 1 Axes>",
      "image/png": "[encoded data removed]"
     },
     "metadata": {},
     "output_type": "display_data"
    }
   ],
   "source": [
    "apple_share_price_data.plot(x=\"Date\", y=\"Open\")"
   ],
   "execution_count": 54
  },
  {
   "cell_type": "markdown",
   "metadata": {},
   "source": [
    "### Extracting Dividends\n"
   ]
  },
  {
   "cell_type": "markdown",
   "metadata": {},
   "source": [
    "Dividends are the distribution of a companys profits to shareholders. In this case they are defined as an amount of money returned per share an investor owns. Using the variable `dividends` we can get a dataframe of the data. The period of the data is given by the period defined in the 'history` function.\n"
   ]
  },
  {
   "cell_type": "code",
   "metadata": {
    "ExecuteTime": {
     "end_time": "2023-11-21T19:06:37.534518400Z",
     "start_time": "2023-11-21T19:06:37.519897400Z"
    }
   },
   "outputs": [
    {
     "data": {
      "text/plain": "Date\n2019-02-08 00:00:00-05:00    0.1825\n2019-05-10 00:00:00-04:00    0.1925\n2019-08-09 00:00:00-04:00    0.1925\n2019-11-07 00:00:00-05:00    0.1925\n2020-02-07 00:00:00-05:00    0.1925\n2020-05-08 00:00:00-04:00    0.2050\n2020-08-07 00:00:00-04:00    0.2050\n2020-11-06 00:00:00-05:00    0.2050\n2021-02-05 00:00:00-05:00    0.2050\n2021-05-07 00:00:00-04:00    0.2200\n2021-08-06 00:00:00-04:00    0.2200\n2021-11-05 00:00:00-04:00    0.2200\n2022-02-04 00:00:00-05:00    0.2200\n2022-05-06 00:00:00-04:00    0.2300\n2022-08-05 00:00:00-04:00    0.2300\n2022-11-04 00:00:00-04:00    0.2300\n2023-02-10 00:00:00-05:00    0.2300\n2023-05-12 00:00:00-04:00    0.2400\n2023-08-11 00:00:00-04:00    0.2400\n2023-11-10 00:00:00-05:00    0.2400\nName: Dividends, dtype: float64"
     },
     "execution_count": 57,
     "metadata": {},
     "output_type": "execute_result"
    }
   ],
   "source": [
    "apple.dividends"
   ],
   "execution_count": 57
  },
  {
   "cell_type": "markdown",
   "metadata": {},
   "source": [
    "We can plot the dividends overtime:\n"
   ]
  },
  {
   "cell_type": "code",
   "metadata": {
    "ExecuteTime": {
     "end_time": "2023-11-21T19:06:40.721592Z",
     "start_time": "2023-11-21T19:06:40.392631400Z"
    }
   },
   "outputs": [
    {
     "data": {
      "text/plain": "<Axes: xlabel='Date'>"
     },
     "execution_count": 58,
     "metadata": {},
     "output_type": "execute_result"
    },
    {
     "data": {
      "text/plain": "<Figure size 640x480 with 1 Axes>",
      "image/png": "[encoded data removed]"
     },
     "metadata": {},
     "output_type": "display_data"
    }
   ],
   "source": [
    "apple.dividends.plot()"
   ],
   "execution_count": 58
  },
  {
   "cell_type": "markdown",
   "metadata": {},
   "source": [
    "## Exercise \n"
   ]
  },
  {
   "cell_type": "markdown",
   "metadata": {},
   "source": [
    "Now using the `Ticker` module create an object for AMD (Advanced Micro Devices) with the ticker symbol is `AMD` called; name the object <code>amd</code>.\n"
   ]
  },
  {
   "cell_type": "code",
   "metadata": {
    "ExecuteTime": {
     "end_time": "2023-11-21T19:20:36.624047600Z",
     "start_time": "2023-11-21T19:20:36.434483Z"
    }
   },
   "outputs": [
    {
     "name": "stdout",
     "output_type": "stream",
     "text": [
      "{'zip': '95054', 'sector': 'Technology', 'fullTimeEmployees': 15500, 'longBusinessSummary': 'Advanced Micro Devices, Inc. operates as a semiconductor company worldwide. The company operates in two segments, Computing and Graphics; and Enterprise, Embedded and Semi-Custom. Its products include x86 microprocessors as an accelerated processing unit, chipsets, discrete and integrated graphics processing units (GPUs), data center and professional GPUs, and development services; and server and embedded processors, and semi-custom System-on-Chip (SoC) products, development services, and technology for game consoles. The company provides processors for desktop and notebook personal computers under the AMD Ryzen, AMD Ryzen PRO, Ryzen Threadripper, Ryzen Threadripper PRO, AMD Athlon, AMD Athlon PRO, AMD FX, AMD A-Series, and AMD PRO A-Series processors brands; discrete GPUs for desktop and notebook PCs under the AMD Radeon graphics, AMD Embedded Radeon graphics brands; and professional graphics products under the AMD Radeon Pro and AMD FirePro graphics brands. It also offers Radeon Instinct, Radeon PRO V-series, and AMD Instinct accelerators for servers; chipsets under the AMD trademark; microprocessors for servers under the AMD EPYC; embedded processor solutions under the AMD Athlon, AMD Geode, AMD Ryzen, AMD EPYC, AMD R-Series, and G-Series processors brands; and customer-specific solutions based on AMD CPU, GPU, and multi-media technologies, as well as semi-custom SoC products. It serves original equipment manufacturers, public cloud service providers, original design manufacturers, system integrators, independent distributors, online retailers, and add-in-board manufacturers through its direct sales force, independent distributors, and sales representatives. The company was incorporated in 1969 and is headquartered in Santa Clara, California.', 'city': 'Santa Clara', 'phone': '408 749 4000', 'state': 'CA', 'country': 'United States', 'companyOfficers': [], 'website': 'https://www.amd.com', 'maxAge': 1, 'address1': '2485 Augustine Drive', 'industry': 'Semiconductors', 'ebitdaMargins': 0.24674, 'profitMargins': 0.19240999, 'grossMargins': 0.48248002, 'operatingCashflow': 3520999936, 'revenueGrowth': 0.488, 'operatingMargins': 0.22198, 'ebitda': 4055000064, 'targetLowPrice': 107, 'recommendationKey': 'buy', 'grossProfits': 7929000000, 'freeCashflow': 3122749952, 'targetMedianPrice': 150, 'currentPrice': 119.22, 'earningsGrowth': -0.454, 'currentRatio': 2.024, 'returnOnAssets': 0.21327, 'numberOfAnalystOpinions': 38, 'targetMeanPrice': 152.02, 'debtToEquity': 9.764, 'returnOnEquity': 0.47428, 'targetHighPrice': 200, 'totalCash': 3608000000, 'totalDebt': 732000000, 'totalRevenue': 16433999872, 'totalCashPerShare': 3.008, 'financialCurrency': 'USD', 'revenuePerShare': 13.548, 'quickRatio': 1.49, 'recommendationMean': 2.2, 'exchange': 'NMS', 'shortName': 'Advanced Micro Devices, Inc.', 'longName': 'Advanced Micro Devices, Inc.', 'exchangeTimezoneName': 'America/New_York', 'exchangeTimezoneShortName': 'EDT', 'isEsgPopulated': False, 'gmtOffSetMilliseconds': '-14400000', 'quoteType': 'EQUITY', 'symbol': 'AMD', 'messageBoardId': 'finmb_168864', 'market': 'us_market', 'annualHoldingsTurnover': None, 'enterpriseToRevenue': 8.525, 'beta3Year': None, 'enterpriseToEbitda': 34.551, '52WeekChange': 0.51966953, 'morningStarRiskRating': None, 'forwardEps': 4.72, 'revenueQuarterlyGrowth': None, 'sharesOutstanding': 1627360000, 'fundInceptionDate': None, 'annualReportExpenseRatio': None, 'totalAssets': None, 'bookValue': 6.211, 'sharesShort': 27776129, 'sharesPercentSharesOut': 0.0171, 'fundFamily': None, 'lastFiscalYearEnd': 1640390400, 'heldPercentInstitutions': 0.52896, 'netIncomeToCommon': 3161999872, 'trailingEps': 2.57, 'lastDividendValue': 0.005, 'SandP52WeekChange': 0.15217662, 'priceToBook': 19.194977, 'heldPercentInsiders': 0.00328, 'nextFiscalYearEnd': 1703462400, 'yield': None, 'mostRecentQuarter': 1640390400, 'shortRatio': 0.24, 'sharesShortPreviousMonthDate': 1644883200, 'floatShares': 1193798619, 'beta': 1.848425, 'enterpriseValue': 140104957952, 'priceHint': 2, 'threeYearAverageReturn': None, 'lastSplitDate': 966902400, 'lastSplitFactor': '2:1', 'legalType': None, 'lastDividendDate': 798940800, 'morningStarOverallRating': None, 'earningsQuarterlyGrowth': -0.453, 'priceToSalesTrailing12Months': 11.805638, 'dateShortInterest': 1647302400, 'pegRatio': 0.99, 'ytdReturn': None, 'forwardPE': 25.258476, 'lastCapGain': None, 'shortPercentOfFloat': 0.0171, 'sharesShortPriorMonth': 88709340, 'impliedSharesOutstanding': 0, 'category': None, 'fiveYearAverageReturn': None, 'previousClose': 123.23, 'regularMarketOpen': 123.04, 'twoHundredDayAverage': 116.6998, 'trailingAnnualDividendYield': 0, 'payoutRatio': 0, 'volume24Hr': None, 'regularMarketDayHigh': 125.66, 'navPrice': None, 'averageDailyVolume10Day': 102167370, 'regularMarketPreviousClose': 123.23, 'fiftyDayAverage': 115.95, 'trailingAnnualDividendRate': 0, 'open': 123.04, 'toCurrency': None, 'averageVolume10days': 102167370, 'expireDate': None, 'algorithm': None, 'dividendRate': None, 'exDividendDate': 798940800, 'circulatingSupply': None, 'startDate': None, 'regularMarketDayLow': 118.59, 'currency': 'USD', 'trailingPE': 46.389107, 'regularMarketVolume': 99476946, 'lastMarket': None, 'maxSupply': None, 'openInterest': None, 'marketCap': 194013855744, 'volumeAllCurrencies': None, 'strikePrice': None, 'averageVolume': 102428813, 'dayLow': 118.59, 'ask': 117.24, 'askSize': 1100, 'volume': 99476946, 'fiftyTwoWeekHigh': 164.46, 'fromCurrency': None, 'fiveYearAvgDividendYield': None, 'fiftyTwoWeekLow': 72.5, 'bid': 117.24, 'tradeable': False, 'dividendYield': None, 'bidSize': 900, 'dayHigh': 125.66, 'regularMarketPrice': 119.22, 'preMarketPrice': 116.98, 'logo_url': 'https://logo.clearbit.com/amd.com'}\n"
     ]
    }
   ],
   "source": [
    "import urllib.request, json \n",
    "with urllib.request.urlopen(\"https://cf-courses-data.s3.us.cloud-object-storage.appdomain.cloud/IBMDeveloperSkillsNetwork-PY0220EN-SkillsNetwork/data/amd.json\") as url:\n",
    "    data = json.load(url)\n",
    "    print(data)"
   ],
   "execution_count": 80
  },
  {
   "cell_type": "code",
   "metadata": {},
   "outputs": [],
   "source": []
  },
  {
   "cell_type": "markdown",
   "metadata": {},
   "source": [
    "<b>Question 1</b> Use the key  <code>'country'</code> to find the country the stock belongs to, remember it as it will be a quiz question.\n"
   ]
  },
  {
   "cell_type": "code",
   "metadata": {
    "ExecuteTime": {
     "end_time": "2023-11-21T19:08:05.012479900Z",
     "start_time": "2023-11-21T19:08:04.986475600Z"
    }
   },
   "outputs": [
    {
     "data": {
      "text/plain": "'United States'"
     },
     "execution_count": 60,
     "metadata": {},
     "output_type": "execute_result"
    }
   ],
   "source": [
    "data['country']"
   ],
   "execution_count": 60
  },
  {
   "cell_type": "markdown",
   "metadata": {},
   "source": [
    "<b>Question 2</b> Use the key  <code>'sector'</code> to find the sector the stock belongs to, remember it as it will be a quiz question.\n"
   ]
  },
  {
   "cell_type": "code",
   "metadata": {
    "ExecuteTime": {
     "end_time": "2023-11-21T19:08:43.997252900Z",
     "start_time": "2023-11-21T19:08:43.961459200Z"
    }
   },
   "outputs": [
    {
     "data": {
      "text/plain": "'Technology'"
     },
     "execution_count": 61,
     "metadata": {},
     "output_type": "execute_result"
    }
   ],
   "source": [
    "data['sector']"
   ],
   "execution_count": 61
  },
  {
   "cell_type": "markdown",
   "metadata": {},
   "source": [
    "<b>Question 3</b> Obtain stock data for AMD using the `history` function, set the `period` to max. Find the `Volume` traded on the first day (first row).\n"
   ]
  },
  {
   "cell_type": "code",
   "metadata": {
    "ExecuteTime": {
     "end_time": "2023-11-21T19:21:11.179866200Z",
     "start_time": "2023-11-21T19:21:10.885535400Z"
    }
   },
   "outputs": [
    {
     "data": {
      "text/plain": "                           Open      High       Low     Close  Volume  \\\nDate                                                                    \n1980-03-17 00:00:00-05:00   0.0  3.302083  3.125000  3.145833  219600   \n1980-03-18 00:00:00-05:00   0.0  3.125000  2.937500  3.031250  727200   \n1980-03-19 00:00:00-05:00   0.0  3.083333  3.020833  3.041667  295200   \n1980-03-20 00:00:00-05:00   0.0  3.062500  3.010417  3.010417  159600   \n1980-03-21 00:00:00-05:00   0.0  3.020833  2.906250  2.916667  130800   \n\n                           Dividends  Stock Splits  \nDate                                                \n1980-03-17 00:00:00-05:00        0.0           0.0  \n1980-03-18 00:00:00-05:00        0.0           0.0  \n1980-03-19 00:00:00-05:00        0.0           0.0  \n1980-03-20 00:00:00-05:00        0.0           0.0  \n1980-03-21 00:00:00-05:00        0.0           0.0  ",
      "text/html": "<div>\n<style scoped>\n    .dataframe tbody tr th:only-of-type {\n        vertical-align: middle;\n    }\n\n    .dataframe tbody tr th {\n        vertical-align: top;\n    }\n\n    .dataframe thead th {\n        text-align: right;\n    }\n</style>\n<table border=\"1\" class=\"dataframe\">\n  <thead>\n    <tr style=\"text-align: right;\">\n      <th></th>\n      <th>Open</th>\n      <th>High</th>\n      <th>Low</th>\n      <th>Close</th>\n      <th>Volume</th>\n      <th>Dividends</th>\n      <th>Stock Splits</th>\n    </tr>\n    <tr>\n      <th>Date</th>\n      <th></th>\n      <th></th>\n      <th></th>\n      <th></th>\n      <th></th>\n      <th></th>\n      <th></th>\n    </tr>\n  </thead>\n  <tbody>\n    <tr>\n      <th>1980-03-17 00:00:00-05:00</th>\n      <td>0.0</td>\n      <td>3.302083</td>\n      <td>3.125000</td>\n      <td>3.145833</td>\n      <td>219600</td>\n      <td>0.0</td>\n      <td>0.0</td>\n    </tr>\n    <tr>\n      <th>1980-03-18 00:00:00-05:00</th>\n      <td>0.0</td>\n      <td>3.125000</td>\n      <td>2.937500</td>\n      <td>3.031250</td>\n      <td>727200</td>\n      <td>0.0</td>\n      <td>0.0</td>\n    </tr>\n    <tr>\n      <th>1980-03-19 00:00:00-05:00</th>\n      <td>0.0</td>\n      <td>3.083333</td>\n      <td>3.020833</td>\n      <td>3.041667</td>\n      <td>295200</td>\n      <td>0.0</td>\n      <td>0.0</td>\n    </tr>\n    <tr>\n      <th>1980-03-20 00:00:00-05:00</th>\n      <td>0.0</td>\n      <td>3.062500</td>\n      <td>3.010417</td>\n      <td>3.010417</td>\n      <td>159600</td>\n      <td>0.0</td>\n      <td>0.0</td>\n    </tr>\n    <tr>\n      <th>1980-03-21 00:00:00-05:00</th>\n      <td>0.0</td>\n      <td>3.020833</td>\n      <td>2.906250</td>\n      <td>2.916667</td>\n      <td>130800</td>\n      <td>0.0</td>\n      <td>0.0</td>\n    </tr>\n  </tbody>\n</table>\n</div>"
     },
     "execution_count": 84,
     "metadata": {},
     "output_type": "execute_result"
    }
   ],
   "source": [
    "amd = yf.Ticker(\"AMD\")\n",
    "data = (amd.history('100y'))\n",
    "data.head()\n",
    "\n"
   ],
   "execution_count": 84
  },
  {
   "cell_type": "markdown",
   "metadata": {},
   "source": [
    "<h2>About the Authors:</h2> \n",
    "\n",
    "<a href=\"https://www.linkedin.com/in/joseph-s-50398b136/?utm_medium=Exinfluencer&utm_source=Exinfluencer&utm_content=000026UJ&utm_term=10006555&utm_id=NA-SkillsNetwork-Channel-SkillsNetworkCoursesIBMDeveloperSkillsNetworkPY0220ENSkillsNetwork900-2022-01-01\">Joseph Santarcangelo</a> has a PhD in Electrical Engineering, his research focused on using machine learning, signal processing, and computer vision to determine how videos impact human cognition. Joseph has been working for IBM since he completed his PhD.\n",
    "\n",
    "Azim Hirjani\n"
   ]
  },
  {
   "cell_type": "markdown",
   "metadata": {},
   "source": [
    "## Change Log\n",
    "\n",
    "| Date (YYYY-MM-DD) | Version | Changed By    | Change Description        |\n",
    "| ----------------- | ------- | ------------- | ------------------------- |\n",
    "| 2020-11-10        | 1.1     | Malika Singla | Deleted the Optional part |\n",
    "| 2020-08-27        | 1.0     | Malika Singla | Added lab to GitLab       |\n",
    "\n",
    "<hr>\n",
    "\n",
    "## <h3 align=\"center\"> © IBM Corporation 2020. All rights reserved. <h3/>\n",
    "\n",
    "<p>\n"
   ]
  }
 ],
 "metadata": {
  "kernelspec": {
   "name": "python3",
   "language": "python",
   "display_name": "Python 3 (ipykernel)"
  },
  "language_info": {
   "name": ""
  }
 },
 "nbformat": 4,
 "nbformat_minor": 4
}
